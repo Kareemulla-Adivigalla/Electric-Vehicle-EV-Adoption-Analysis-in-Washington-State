{
  "nbformat": 4,
  "nbformat_minor": 0,
  "metadata": {
    "colab": {
      "provenance": []
    },
    "kernelspec": {
      "name": "python3",
      "display_name": "Python 3"
    },
    "language_info": {
      "name": "python"
    }
  },
  "cells": [
    {
      "cell_type": "code",
      "execution_count": 1,
      "metadata": {
        "id": "Wy6EhOYk0NqC"
      },
      "outputs": [],
      "source": [
        "#Importing Libraries\n",
        "import pandas as pd\n",
        "import numpy as np\n",
        "import matplotlib.pyplot as plt\n",
        "import seaborn as sns\n",
        "import warnings\n",
        "warnings.filterwarnings('ignore')\n",
        "\n",
        "#to display plots inline\n",
        "%matplotlib inline"
      ]
    },
    {
      "cell_type": "code",
      "source": [
        "from google.colab import drive\n",
        "\n",
        "# Mount Google Drive\n",
        "drive.mount('/content/gdrive')"
      ],
      "metadata": {
        "colab": {
          "base_uri": "https://localhost:8080/"
        },
        "id": "8ISQypQj2psQ",
        "outputId": "b6a81638-9a06-471e-9559-6d739cde8db8"
      },
      "execution_count": 2,
      "outputs": [
        {
          "output_type": "stream",
          "name": "stdout",
          "text": [
            "Mounted at /content/gdrive\n"
          ]
        }
      ]
    },
    {
      "cell_type": "code",
      "source": [
        "# Access your dataset\n",
        "data_path = '/content/gdrive/My Drive/Colab Notebooks/Electiric vehical/final_after_outlier_cleaned_data.csv'"
      ],
      "metadata": {
        "id": "XEEV0WVq2rvX"
      },
      "execution_count": 3,
      "outputs": []
    },
    {
      "cell_type": "code",
      "source": [
        "df = pd.read_csv(data_path)\n",
        "# Display the first few rows of the DataFrame\n",
        "df.head()"
      ],
      "metadata": {
        "colab": {
          "base_uri": "https://localhost:8080/",
          "height": 588
        },
        "id": "1dAZJ4w_2b_X",
        "outputId": "f63e7280-e068-4f06-9018-67fe9fe4a1e3"
      },
      "execution_count": 4,
      "outputs": [
        {
          "output_type": "execute_result",
          "data": {
            "text/plain": [
              "   VIN (1-10)     County          City State  Postal Code  Model Year    Make  \\\n",
              "0  1C4JJXP68P     Yakima        Yakima    WA      98901.0        2023    JEEP   \n",
              "1  WBY8P6C05L     Kitsap      Kingston    WA      98346.0        2020     BMW   \n",
              "2  JTDKARFP1J     Kitsap  Port Orchard    WA      98367.0        2018  TOYOTA   \n",
              "3  5UXTA6C09N  Snohomish       Everett    WA      98208.0        2022     BMW   \n",
              "4  JTMAB3FV7P   Thurston       Rainier    WA      98576.0        2023  TOYOTA   \n",
              "\n",
              "         Model                   Electric Vehicle Type  \\\n",
              "0     WRANGLER  Plug-in Hybrid Electric Vehicle (PHEV)   \n",
              "1           I3          Battery Electric Vehicle (BEV)   \n",
              "2  PRIUS PRIME  Plug-in Hybrid Electric Vehicle (PHEV)   \n",
              "3           X5  Plug-in Hybrid Electric Vehicle (PHEV)   \n",
              "4   RAV4 PRIME  Plug-in Hybrid Electric Vehicle (PHEV)   \n",
              "\n",
              "  Clean Alternative Fuel Vehicle (CAFV) Eligibility  Electric Range  \\\n",
              "0             Not eligible due to low battery range              21   \n",
              "1           Clean Alternative Fuel Vehicle Eligible             153   \n",
              "2             Not eligible due to low battery range              25   \n",
              "3           Clean Alternative Fuel Vehicle Eligible              30   \n",
              "4           Clean Alternative Fuel Vehicle Eligible              42   \n",
              "\n",
              "   Base MSRP  DOL Vehicle ID                 Vehicle Location  \\\n",
              "0          0       249905295  POINT (-120.4688751 46.6046178)   \n",
              "1          0       260917289  POINT (-122.5178351 47.7981436)   \n",
              "2          0       186410087  POINT (-122.6530052 47.4739066)   \n",
              "3          0       186076915  POINT (-122.2032349 47.8956271)   \n",
              "4          0       236505139  POINT (-122.6771414 46.8882415)   \n",
              "\n",
              "         Electric Utility  2020 Census Tract  \n",
              "0              PACIFICORP       5.307700e+10  \n",
              "1  PUGET SOUND ENERGY INC       5.303509e+10  \n",
              "2  PUGET SOUND ENERGY INC       5.303509e+10  \n",
              "3  PUGET SOUND ENERGY INC       5.306104e+10  \n",
              "4  PUGET SOUND ENERGY INC       5.306701e+10  "
            ],
            "text/html": [
              "\n",
              "  <div id=\"df-6b178f69-ef1f-4ef3-aacf-5f9e4fb055bf\" class=\"colab-df-container\">\n",
              "    <div>\n",
              "<style scoped>\n",
              "    .dataframe tbody tr th:only-of-type {\n",
              "        vertical-align: middle;\n",
              "    }\n",
              "\n",
              "    .dataframe tbody tr th {\n",
              "        vertical-align: top;\n",
              "    }\n",
              "\n",
              "    .dataframe thead th {\n",
              "        text-align: right;\n",
              "    }\n",
              "</style>\n",
              "<table border=\"1\" class=\"dataframe\">\n",
              "  <thead>\n",
              "    <tr style=\"text-align: right;\">\n",
              "      <th></th>\n",
              "      <th>VIN (1-10)</th>\n",
              "      <th>County</th>\n",
              "      <th>City</th>\n",
              "      <th>State</th>\n",
              "      <th>Postal Code</th>\n",
              "      <th>Model Year</th>\n",
              "      <th>Make</th>\n",
              "      <th>Model</th>\n",
              "      <th>Electric Vehicle Type</th>\n",
              "      <th>Clean Alternative Fuel Vehicle (CAFV) Eligibility</th>\n",
              "      <th>Electric Range</th>\n",
              "      <th>Base MSRP</th>\n",
              "      <th>DOL Vehicle ID</th>\n",
              "      <th>Vehicle Location</th>\n",
              "      <th>Electric Utility</th>\n",
              "      <th>2020 Census Tract</th>\n",
              "    </tr>\n",
              "  </thead>\n",
              "  <tbody>\n",
              "    <tr>\n",
              "      <th>0</th>\n",
              "      <td>1C4JJXP68P</td>\n",
              "      <td>Yakima</td>\n",
              "      <td>Yakima</td>\n",
              "      <td>WA</td>\n",
              "      <td>98901.0</td>\n",
              "      <td>2023</td>\n",
              "      <td>JEEP</td>\n",
              "      <td>WRANGLER</td>\n",
              "      <td>Plug-in Hybrid Electric Vehicle (PHEV)</td>\n",
              "      <td>Not eligible due to low battery range</td>\n",
              "      <td>21</td>\n",
              "      <td>0</td>\n",
              "      <td>249905295</td>\n",
              "      <td>POINT (-120.4688751 46.6046178)</td>\n",
              "      <td>PACIFICORP</td>\n",
              "      <td>5.307700e+10</td>\n",
              "    </tr>\n",
              "    <tr>\n",
              "      <th>1</th>\n",
              "      <td>WBY8P6C05L</td>\n",
              "      <td>Kitsap</td>\n",
              "      <td>Kingston</td>\n",
              "      <td>WA</td>\n",
              "      <td>98346.0</td>\n",
              "      <td>2020</td>\n",
              "      <td>BMW</td>\n",
              "      <td>I3</td>\n",
              "      <td>Battery Electric Vehicle (BEV)</td>\n",
              "      <td>Clean Alternative Fuel Vehicle Eligible</td>\n",
              "      <td>153</td>\n",
              "      <td>0</td>\n",
              "      <td>260917289</td>\n",
              "      <td>POINT (-122.5178351 47.7981436)</td>\n",
              "      <td>PUGET SOUND ENERGY INC</td>\n",
              "      <td>5.303509e+10</td>\n",
              "    </tr>\n",
              "    <tr>\n",
              "      <th>2</th>\n",
              "      <td>JTDKARFP1J</td>\n",
              "      <td>Kitsap</td>\n",
              "      <td>Port Orchard</td>\n",
              "      <td>WA</td>\n",
              "      <td>98367.0</td>\n",
              "      <td>2018</td>\n",
              "      <td>TOYOTA</td>\n",
              "      <td>PRIUS PRIME</td>\n",
              "      <td>Plug-in Hybrid Electric Vehicle (PHEV)</td>\n",
              "      <td>Not eligible due to low battery range</td>\n",
              "      <td>25</td>\n",
              "      <td>0</td>\n",
              "      <td>186410087</td>\n",
              "      <td>POINT (-122.6530052 47.4739066)</td>\n",
              "      <td>PUGET SOUND ENERGY INC</td>\n",
              "      <td>5.303509e+10</td>\n",
              "    </tr>\n",
              "    <tr>\n",
              "      <th>3</th>\n",
              "      <td>5UXTA6C09N</td>\n",
              "      <td>Snohomish</td>\n",
              "      <td>Everett</td>\n",
              "      <td>WA</td>\n",
              "      <td>98208.0</td>\n",
              "      <td>2022</td>\n",
              "      <td>BMW</td>\n",
              "      <td>X5</td>\n",
              "      <td>Plug-in Hybrid Electric Vehicle (PHEV)</td>\n",
              "      <td>Clean Alternative Fuel Vehicle Eligible</td>\n",
              "      <td>30</td>\n",
              "      <td>0</td>\n",
              "      <td>186076915</td>\n",
              "      <td>POINT (-122.2032349 47.8956271)</td>\n",
              "      <td>PUGET SOUND ENERGY INC</td>\n",
              "      <td>5.306104e+10</td>\n",
              "    </tr>\n",
              "    <tr>\n",
              "      <th>4</th>\n",
              "      <td>JTMAB3FV7P</td>\n",
              "      <td>Thurston</td>\n",
              "      <td>Rainier</td>\n",
              "      <td>WA</td>\n",
              "      <td>98576.0</td>\n",
              "      <td>2023</td>\n",
              "      <td>TOYOTA</td>\n",
              "      <td>RAV4 PRIME</td>\n",
              "      <td>Plug-in Hybrid Electric Vehicle (PHEV)</td>\n",
              "      <td>Clean Alternative Fuel Vehicle Eligible</td>\n",
              "      <td>42</td>\n",
              "      <td>0</td>\n",
              "      <td>236505139</td>\n",
              "      <td>POINT (-122.6771414 46.8882415)</td>\n",
              "      <td>PUGET SOUND ENERGY INC</td>\n",
              "      <td>5.306701e+10</td>\n",
              "    </tr>\n",
              "  </tbody>\n",
              "</table>\n",
              "</div>\n",
              "    <div class=\"colab-df-buttons\">\n",
              "\n",
              "  <div class=\"colab-df-container\">\n",
              "    <button class=\"colab-df-convert\" onclick=\"convertToInteractive('df-6b178f69-ef1f-4ef3-aacf-5f9e4fb055bf')\"\n",
              "            title=\"Convert this dataframe to an interactive table.\"\n",
              "            style=\"display:none;\">\n",
              "\n",
              "  <svg xmlns=\"http://www.w3.org/2000/svg\" height=\"24px\" viewBox=\"0 -960 960 960\">\n",
              "    <path d=\"M120-120v-720h720v720H120Zm60-500h600v-160H180v160Zm220 220h160v-160H400v160Zm0 220h160v-160H400v160ZM180-400h160v-160H180v160Zm440 0h160v-160H620v160ZM180-180h160v-160H180v160Zm440 0h160v-160H620v160Z\"/>\n",
              "  </svg>\n",
              "    </button>\n",
              "\n",
              "  <style>\n",
              "    .colab-df-container {\n",
              "      display:flex;\n",
              "      gap: 12px;\n",
              "    }\n",
              "\n",
              "    .colab-df-convert {\n",
              "      background-color: #E8F0FE;\n",
              "      border: none;\n",
              "      border-radius: 50%;\n",
              "      cursor: pointer;\n",
              "      display: none;\n",
              "      fill: #1967D2;\n",
              "      height: 32px;\n",
              "      padding: 0 0 0 0;\n",
              "      width: 32px;\n",
              "    }\n",
              "\n",
              "    .colab-df-convert:hover {\n",
              "      background-color: #E2EBFA;\n",
              "      box-shadow: 0px 1px 2px rgba(60, 64, 67, 0.3), 0px 1px 3px 1px rgba(60, 64, 67, 0.15);\n",
              "      fill: #174EA6;\n",
              "    }\n",
              "\n",
              "    .colab-df-buttons div {\n",
              "      margin-bottom: 4px;\n",
              "    }\n",
              "\n",
              "    [theme=dark] .colab-df-convert {\n",
              "      background-color: #3B4455;\n",
              "      fill: #D2E3FC;\n",
              "    }\n",
              "\n",
              "    [theme=dark] .colab-df-convert:hover {\n",
              "      background-color: #434B5C;\n",
              "      box-shadow: 0px 1px 3px 1px rgba(0, 0, 0, 0.15);\n",
              "      filter: drop-shadow(0px 1px 2px rgba(0, 0, 0, 0.3));\n",
              "      fill: #FFFFFF;\n",
              "    }\n",
              "  </style>\n",
              "\n",
              "    <script>\n",
              "      const buttonEl =\n",
              "        document.querySelector('#df-6b178f69-ef1f-4ef3-aacf-5f9e4fb055bf button.colab-df-convert');\n",
              "      buttonEl.style.display =\n",
              "        google.colab.kernel.accessAllowed ? 'block' : 'none';\n",
              "\n",
              "      async function convertToInteractive(key) {\n",
              "        const element = document.querySelector('#df-6b178f69-ef1f-4ef3-aacf-5f9e4fb055bf');\n",
              "        const dataTable =\n",
              "          await google.colab.kernel.invokeFunction('convertToInteractive',\n",
              "                                                    [key], {});\n",
              "        if (!dataTable) return;\n",
              "\n",
              "        const docLinkHtml = 'Like what you see? Visit the ' +\n",
              "          '<a target=\"_blank\" href=https://colab.research.google.com/notebooks/data_table.ipynb>data table notebook</a>'\n",
              "          + ' to learn more about interactive tables.';\n",
              "        element.innerHTML = '';\n",
              "        dataTable['output_type'] = 'display_data';\n",
              "        await google.colab.output.renderOutput(dataTable, element);\n",
              "        const docLink = document.createElement('div');\n",
              "        docLink.innerHTML = docLinkHtml;\n",
              "        element.appendChild(docLink);\n",
              "      }\n",
              "    </script>\n",
              "  </div>\n",
              "\n",
              "\n",
              "<div id=\"df-60a008ae-0c8c-450c-b3e9-abf600c797b6\">\n",
              "  <button class=\"colab-df-quickchart\" onclick=\"quickchart('df-60a008ae-0c8c-450c-b3e9-abf600c797b6')\"\n",
              "            title=\"Suggest charts\"\n",
              "            style=\"display:none;\">\n",
              "\n",
              "<svg xmlns=\"http://www.w3.org/2000/svg\" height=\"24px\"viewBox=\"0 0 24 24\"\n",
              "     width=\"24px\">\n",
              "    <g>\n",
              "        <path d=\"M19 3H5c-1.1 0-2 .9-2 2v14c0 1.1.9 2 2 2h14c1.1 0 2-.9 2-2V5c0-1.1-.9-2-2-2zM9 17H7v-7h2v7zm4 0h-2V7h2v10zm4 0h-2v-4h2v4z\"/>\n",
              "    </g>\n",
              "</svg>\n",
              "  </button>\n",
              "\n",
              "<style>\n",
              "  .colab-df-quickchart {\n",
              "      --bg-color: #E8F0FE;\n",
              "      --fill-color: #1967D2;\n",
              "      --hover-bg-color: #E2EBFA;\n",
              "      --hover-fill-color: #174EA6;\n",
              "      --disabled-fill-color: #AAA;\n",
              "      --disabled-bg-color: #DDD;\n",
              "  }\n",
              "\n",
              "  [theme=dark] .colab-df-quickchart {\n",
              "      --bg-color: #3B4455;\n",
              "      --fill-color: #D2E3FC;\n",
              "      --hover-bg-color: #434B5C;\n",
              "      --hover-fill-color: #FFFFFF;\n",
              "      --disabled-bg-color: #3B4455;\n",
              "      --disabled-fill-color: #666;\n",
              "  }\n",
              "\n",
              "  .colab-df-quickchart {\n",
              "    background-color: var(--bg-color);\n",
              "    border: none;\n",
              "    border-radius: 50%;\n",
              "    cursor: pointer;\n",
              "    display: none;\n",
              "    fill: var(--fill-color);\n",
              "    height: 32px;\n",
              "    padding: 0;\n",
              "    width: 32px;\n",
              "  }\n",
              "\n",
              "  .colab-df-quickchart:hover {\n",
              "    background-color: var(--hover-bg-color);\n",
              "    box-shadow: 0 1px 2px rgba(60, 64, 67, 0.3), 0 1px 3px 1px rgba(60, 64, 67, 0.15);\n",
              "    fill: var(--button-hover-fill-color);\n",
              "  }\n",
              "\n",
              "  .colab-df-quickchart-complete:disabled,\n",
              "  .colab-df-quickchart-complete:disabled:hover {\n",
              "    background-color: var(--disabled-bg-color);\n",
              "    fill: var(--disabled-fill-color);\n",
              "    box-shadow: none;\n",
              "  }\n",
              "\n",
              "  .colab-df-spinner {\n",
              "    border: 2px solid var(--fill-color);\n",
              "    border-color: transparent;\n",
              "    border-bottom-color: var(--fill-color);\n",
              "    animation:\n",
              "      spin 1s steps(1) infinite;\n",
              "  }\n",
              "\n",
              "  @keyframes spin {\n",
              "    0% {\n",
              "      border-color: transparent;\n",
              "      border-bottom-color: var(--fill-color);\n",
              "      border-left-color: var(--fill-color);\n",
              "    }\n",
              "    20% {\n",
              "      border-color: transparent;\n",
              "      border-left-color: var(--fill-color);\n",
              "      border-top-color: var(--fill-color);\n",
              "    }\n",
              "    30% {\n",
              "      border-color: transparent;\n",
              "      border-left-color: var(--fill-color);\n",
              "      border-top-color: var(--fill-color);\n",
              "      border-right-color: var(--fill-color);\n",
              "    }\n",
              "    40% {\n",
              "      border-color: transparent;\n",
              "      border-right-color: var(--fill-color);\n",
              "      border-top-color: var(--fill-color);\n",
              "    }\n",
              "    60% {\n",
              "      border-color: transparent;\n",
              "      border-right-color: var(--fill-color);\n",
              "    }\n",
              "    80% {\n",
              "      border-color: transparent;\n",
              "      border-right-color: var(--fill-color);\n",
              "      border-bottom-color: var(--fill-color);\n",
              "    }\n",
              "    90% {\n",
              "      border-color: transparent;\n",
              "      border-bottom-color: var(--fill-color);\n",
              "    }\n",
              "  }\n",
              "</style>\n",
              "\n",
              "  <script>\n",
              "    async function quickchart(key) {\n",
              "      const quickchartButtonEl =\n",
              "        document.querySelector('#' + key + ' button');\n",
              "      quickchartButtonEl.disabled = true;  // To prevent multiple clicks.\n",
              "      quickchartButtonEl.classList.add('colab-df-spinner');\n",
              "      try {\n",
              "        const charts = await google.colab.kernel.invokeFunction(\n",
              "            'suggestCharts', [key], {});\n",
              "      } catch (error) {\n",
              "        console.error('Error during call to suggestCharts:', error);\n",
              "      }\n",
              "      quickchartButtonEl.classList.remove('colab-df-spinner');\n",
              "      quickchartButtonEl.classList.add('colab-df-quickchart-complete');\n",
              "    }\n",
              "    (() => {\n",
              "      let quickchartButtonEl =\n",
              "        document.querySelector('#df-60a008ae-0c8c-450c-b3e9-abf600c797b6 button');\n",
              "      quickchartButtonEl.style.display =\n",
              "        google.colab.kernel.accessAllowed ? 'block' : 'none';\n",
              "    })();\n",
              "  </script>\n",
              "</div>\n",
              "\n",
              "    </div>\n",
              "  </div>\n"
            ],
            "application/vnd.google.colaboratory.intrinsic+json": {
              "type": "dataframe",
              "variable_name": "df"
            }
          },
          "metadata": {},
          "execution_count": 4
        }
      ]
    },
    {
      "cell_type": "markdown",
      "source": [
        "**Formulating and Prepare for Hypothesis Testing**"
      ],
      "metadata": {
        "id": "JHqAknLb3g3V"
      }
    },
    {
      "cell_type": "markdown",
      "source": [
        "**I am formulating the hypothesis related to the proportion of BEVs in urban vs. non-urban areas.**"
      ],
      "metadata": {
        "id": "YB-YXn-s4N5k"
      }
    },
    {
      "cell_type": "markdown",
      "source": [
        "Hypothesis 1: Urbanization and BEV Adoption\n",
        "\n",
        "Null Hypothesis (H0): There is no significant difference in the proportion of BEVs compared to PHEVs between urban and non-urban areas.\n",
        "\n",
        "Alternative Hypothesis (H1): Urban areas have a significantly higher proportion of BEVs compared to PHEVs than non-urban areas."
      ],
      "metadata": {
        "id": "kodb14Lb4nFF"
      }
    },
    {
      "cell_type": "markdown",
      "source": [
        "**Creating an Urban vs. Non-Urban Classification**\n",
        "\n",
        "\n",
        "I have to classify areas as urban or non-urban. For simplicity, assuming counties with large cities are urban, and others are non-urban."
      ],
      "metadata": {
        "id": "FEX8d2Cj45vt"
      }
    },
    {
      "cell_type": "code",
      "source": [
        "# We have a list of urban counties\n",
        "urban_counties = ['King', 'Snohomish', 'Pierce', 'Clark', 'Spokane', 'Thurston']\n",
        "\n",
        "# Creating a new column to classify urban vs non-urban areas\n",
        "df['Urban'] = df['County'].apply(lambda x: 'Urban' if x in urban_counties else 'Non-Urban')\n",
        "\n",
        "# Checking the distribution\n",
        "df['Urban'].value_counts()\n"
      ],
      "metadata": {
        "colab": {
          "base_uri": "https://localhost:8080/",
          "height": 178
        },
        "id": "ASTgf6p03i6o",
        "outputId": "464427de-196d-43bd-b5ad-0c8bc3e8f242"
      },
      "execution_count": 5,
      "outputs": [
        {
          "output_type": "execute_result",
          "data": {
            "text/plain": [
              "Urban\n",
              "Urban        147615\n",
              "Non-Urban     28211\n",
              "Name: count, dtype: int64"
            ],
            "text/html": [
              "<div>\n",
              "<style scoped>\n",
              "    .dataframe tbody tr th:only-of-type {\n",
              "        vertical-align: middle;\n",
              "    }\n",
              "\n",
              "    .dataframe tbody tr th {\n",
              "        vertical-align: top;\n",
              "    }\n",
              "\n",
              "    .dataframe thead th {\n",
              "        text-align: right;\n",
              "    }\n",
              "</style>\n",
              "<table border=\"1\" class=\"dataframe\">\n",
              "  <thead>\n",
              "    <tr style=\"text-align: right;\">\n",
              "      <th></th>\n",
              "      <th>count</th>\n",
              "    </tr>\n",
              "    <tr>\n",
              "      <th>Urban</th>\n",
              "      <th></th>\n",
              "    </tr>\n",
              "  </thead>\n",
              "  <tbody>\n",
              "    <tr>\n",
              "      <th>Urban</th>\n",
              "      <td>147615</td>\n",
              "    </tr>\n",
              "    <tr>\n",
              "      <th>Non-Urban</th>\n",
              "      <td>28211</td>\n",
              "    </tr>\n",
              "  </tbody>\n",
              "</table>\n",
              "</div><br><label><b>dtype:</b> int64</label>"
            ]
          },
          "metadata": {},
          "execution_count": 5
        }
      ]
    },
    {
      "cell_type": "markdown",
      "source": [
        "**Performing Hypothesis Testing**\n",
        "\n",
        "The Hypothesis testing is to compare the proportion of BEVs in urban vs. non-urban areas.\n",
        "\n",
        "I use a chi-square test of independence to compare the proportions of BEVs in urban vs. non-urban areas."
      ],
      "metadata": {
        "id": "R988IL2M5jaq"
      }
    },
    {
      "cell_type": "code",
      "source": [
        "import scipy.stats as stats\n",
        "\n",
        "# Create a contingency table\n",
        "contingency_table = pd.crosstab(df['Urban'], df['Electric Vehicle Type'])\n",
        "\n",
        "# Perform the Chi-square test\n",
        "chi2, p, dof, expected = stats.chi2_contingency(contingency_table)\n",
        "\n",
        "# Display the results\n",
        "print(f\"Chi-square Statistic: {chi2}\")\n",
        "print(f\"P-Value: {p}\")\n",
        "\n",
        "# Conclusion\n",
        "alpha = 0.05\n",
        "if p < alpha:\n",
        "    print(\"Reject the null hypothesis - There is a significant difference in BEV adoption between urban and non-urban areas.\")\n",
        "else:\n",
        "    print(\"Fail to reject the null hypothesis - No significant difference in BEV adoption between urban and non-urban areas.\")\n"
      ],
      "metadata": {
        "colab": {
          "base_uri": "https://localhost:8080/"
        },
        "id": "EvWavwiP5mtA",
        "outputId": "38fe3d34-220f-4dab-b466-fcc9e3572784"
      },
      "execution_count": 6,
      "outputs": [
        {
          "output_type": "stream",
          "name": "stdout",
          "text": [
            "Chi-square Statistic: 744.5965126540892\n",
            "P-Value: 6.0023304534558134e-164\n",
            "Reject the null hypothesis - There is a significant difference in BEV adoption between urban and non-urban areas.\n"
          ]
        }
      ]
    },
    {
      "cell_type": "markdown",
      "source": [
        "**Interpretation of Results:**\n",
        "\n",
        "Chi-square Statistic: 744.60\n",
        "The chi-square statistic of 744.60 is very large, indicating a substantial difference between the observed and expected frequencies in the contingency table. This suggests a strong association between the type of area (urban vs. non-urban) and the adoption of Battery Electric Vehicles (BEVs).\n",
        "\n",
        "P-Value: 6.00e-164\n",
        "The p-value of 6.00e-164 is extremely small, far below any common significance level (e.g., 0.05). This indicates that the likelihood of observing such a strong association by chance is virtually zero.\n",
        "\n",
        "Conclusion: Reject the null hypothesis\n",
        "The very small p-value, we reject the null hypothesis. This means there is a statistically significant difference in BEV adoption between urban and non-urban areas. In other words, the type of area (urban vs. non-urban) has a significant impact on the adoption of BEVs."
      ],
      "metadata": {
        "id": "M4xZhNmy_4XA"
      }
    },
    {
      "cell_type": "markdown",
      "source": [
        "**Hypothesis 2: CAFV Eligibility and EV Adoption**\n",
        "\n",
        "This hypothesis will test whether counties with higher CAFV (Clean Alternative Fuel Vehicle) eligibility rates have a higher overall EV adoption rate."
      ],
      "metadata": {
        "id": "WlOLYZOW6wC4"
      }
    },
    {
      "cell_type": "markdown",
      "source": [
        "**Hypothesis Formulation**\n",
        "\n",
        "Null Hypothesis (H0): There is no significant difference in EV adoption rates between counties with high CAFV eligibility and those with low CAFV eligibility.\n",
        "\n",
        "Alternative Hypothesis (H1): Counties with higher CAFV eligibility rates have significantly higher EV adoption rates compared to those with lower CAFV eligibility rates."
      ],
      "metadata": {
        "id": "i0oWwm-V66qv"
      }
    },
    {
      "cell_type": "markdown",
      "source": [
        "**Preparing the Data for Hypothesis Testing**\n",
        "\n",
        "**Calculating the proportion of EVs that are CAFV-eligible in each county and then classify counties into \"High CAFV Eligibility\" and \"Low CAFV Eligibility\" based on a threshold**"
      ],
      "metadata": {
        "id": "i3btRMth7RaD"
      }
    },
    {
      "cell_type": "code",
      "source": [
        "# Calculate the proportion of CAFV-eligible vehicles by county\n",
        "county_cafv_proportion = df.groupby('County')['Clean Alternative Fuel Vehicle (CAFV) Eligibility'].apply(lambda x: (x == 'Eligible').mean()).reset_index()\n",
        "\n",
        "# Determine the median CAFV eligibility proportion\n",
        "median_cafv_proportion = county_cafv_proportion['Clean Alternative Fuel Vehicle (CAFV) Eligibility'].median()\n",
        "\n",
        "# Classify counties as \"High CAFV Eligibility\" or \"Low CAFV Eligibility\"\n",
        "county_cafv_proportion['CAFV Eligibility Category'] = county_cafv_proportion['Clean Alternative Fuel Vehicle (CAFV) Eligibility'].apply(lambda x: 'High' if x >= median_cafv_proportion else 'Low')\n",
        "\n",
        "# Merge this classification back to the main dataframe\n",
        "df = df.merge(county_cafv_proportion[['County', 'CAFV Eligibility Category']], on='County', how='left')\n",
        "\n",
        "# Check the classification distribution\n",
        "df['CAFV Eligibility Category'].value_counts()\n"
      ],
      "metadata": {
        "colab": {
          "base_uri": "https://localhost:8080/",
          "height": 147
        },
        "id": "lOrM0U506x1O",
        "outputId": "c0d5b0dd-06de-4b83-c37a-e0411a921e71"
      },
      "execution_count": 7,
      "outputs": [
        {
          "output_type": "execute_result",
          "data": {
            "text/plain": [
              "CAFV Eligibility Category\n",
              "High    175826\n",
              "Name: count, dtype: int64"
            ],
            "text/html": [
              "<div>\n",
              "<style scoped>\n",
              "    .dataframe tbody tr th:only-of-type {\n",
              "        vertical-align: middle;\n",
              "    }\n",
              "\n",
              "    .dataframe tbody tr th {\n",
              "        vertical-align: top;\n",
              "    }\n",
              "\n",
              "    .dataframe thead th {\n",
              "        text-align: right;\n",
              "    }\n",
              "</style>\n",
              "<table border=\"1\" class=\"dataframe\">\n",
              "  <thead>\n",
              "    <tr style=\"text-align: right;\">\n",
              "      <th></th>\n",
              "      <th>count</th>\n",
              "    </tr>\n",
              "    <tr>\n",
              "      <th>CAFV Eligibility Category</th>\n",
              "      <th></th>\n",
              "    </tr>\n",
              "  </thead>\n",
              "  <tbody>\n",
              "    <tr>\n",
              "      <th>High</th>\n",
              "      <td>175826</td>\n",
              "    </tr>\n",
              "  </tbody>\n",
              "</table>\n",
              "</div><br><label><b>dtype:</b> int64</label>"
            ]
          },
          "metadata": {},
          "execution_count": 7
        }
      ]
    },
    {
      "cell_type": "markdown",
      "source": [
        "**Conducting Hypothesis Testing**\n",
        "\n",
        "I perform a chi-square test to see if there's a significant association between CAFV eligibility category (high vs. low) and overall EV adoption."
      ],
      "metadata": {
        "id": "44QUNiac7xmg"
      }
    },
    {
      "cell_type": "code",
      "source": [
        "# Create a contingency table for CAFV eligibility category and EV type\n",
        "contingency_table_cafv = pd.crosstab(df['CAFV Eligibility Category'], df['Electric Vehicle Type'])\n",
        "\n",
        "# Perform the Chi-square test\n",
        "chi2_cafv, p_cafv, dof_cafv, expected_cafv = stats.chi2_contingency(contingency_table_cafv)\n",
        "\n",
        "# Display the results\n",
        "print(f\"Chi-square Statistic: {chi2_cafv}\")\n",
        "print(f\"P-Value: {p_cafv}\")\n",
        "\n",
        "# Conclusion\n",
        "alpha = 0.05\n",
        "if p_cafv < alpha:\n",
        "    print(\"Reject the null hypothesis - There is a significant difference in EV adoption rates between high and low CAFV eligibility counties.\")\n",
        "else:\n",
        "    print(\"Fail to reject the null hypothesis - No significant difference in EV adoption rates between high and low CAFV eligibility counties.\")\n"
      ],
      "metadata": {
        "colab": {
          "base_uri": "https://localhost:8080/"
        },
        "id": "tVbIwDYI70AY",
        "outputId": "a492f09a-fd4f-44f3-e2c6-3a8d4291e9d5"
      },
      "execution_count": 8,
      "outputs": [
        {
          "output_type": "stream",
          "name": "stdout",
          "text": [
            "Chi-square Statistic: 0.0\n",
            "P-Value: 1.0\n",
            "Fail to reject the null hypothesis - No significant difference in EV adoption rates between high and low CAFV eligibility counties.\n"
          ]
        }
      ]
    },
    {
      "cell_type": "markdown",
      "source": [
        "**Interpretation of Results:**\n",
        "\n",
        "Chi-square Statistic: 0.0\n",
        "The chi-square statistic of 0.0 indicates that the observed frequencies in the contingency table are exactly what I would expect if there were no association between CAFV eligibility and EV adoption rates across different counties. This means that the distribution of EV adoption is identical between counties with high CAFV eligibility and those with low CAFV eligibility.\n",
        "\n",
        "P-Value: 1.0\n",
        "The p-value of 1.0 is extremely high, suggesting that there is no evidence to reject the null hypothesis. This indicates that the difference in EV adoption rates between counties with high and low CAFV eligibility is not statistically significant.\n",
        "\n",
        "Conclusion: Fail to reject the null hypothesis\n",
        "Based on these results, I fail to reject the null hypothesis. This means that there is no significant difference in EV adoption rates between counties with high CAFV eligibility and those with low CAFV eligibility. In other words, CAFV eligibility does not appear to be a strong factor influencing the overall EV adoption rate at the county level."
      ],
      "metadata": {
        "id": "htUu8v_0-9WE"
      }
    },
    {
      "cell_type": "code",
      "source": [],
      "metadata": {
        "id": "LAScA3Iw_S0P"
      },
      "execution_count": null,
      "outputs": []
    }
  ]
}