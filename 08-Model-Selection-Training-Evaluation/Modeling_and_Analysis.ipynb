{
  "nbformat": 4,
  "nbformat_minor": 0,
  "metadata": {
    "colab": {
      "provenance": []
    },
    "kernelspec": {
      "name": "python3",
      "display_name": "Python 3"
    },
    "language_info": {
      "name": "python"
    }
  },
  "cells": [
    {
      "cell_type": "code",
      "source": [
        "#Importing Libraries\n",
        "import pandas as pd\n",
        "import numpy as np\n",
        "import matplotlib.pyplot as plt\n",
        "import seaborn as sns\n",
        "import warnings\n",
        "warnings.filterwarnings('ignore')\n",
        "\n",
        "#to display plots inline\n",
        "%matplotlib inline"
      ],
      "metadata": {
        "id": "S4iCvnN3RIFf"
      },
      "execution_count": 1,
      "outputs": []
    },
    {
      "cell_type": "code",
      "source": [
        "from google.colab import drive\n",
        "\n",
        "# Mount Google Drive\n",
        "drive.mount('/content/gdrive')"
      ],
      "metadata": {
        "colab": {
          "base_uri": "https://localhost:8080/"
        },
        "id": "dFrtvVuFRNOj",
        "outputId": "8ef00eea-0675-4927-b028-7e9a93c15bfc"
      },
      "execution_count": 2,
      "outputs": [
        {
          "output_type": "stream",
          "name": "stdout",
          "text": [
            "Mounted at /content/gdrive\n"
          ]
        }
      ]
    },
    {
      "cell_type": "code",
      "source": [
        "# Access your dataset\n",
        "data_path = '/content/gdrive/My Drive/Colab Notebooks/Electiric vehical/final_dataset_with_features.csv'"
      ],
      "metadata": {
        "id": "pOWllArARSpc"
      },
      "execution_count": 3,
      "outputs": []
    },
    {
      "cell_type": "code",
      "execution_count": 4,
      "metadata": {
        "colab": {
          "base_uri": "https://localhost:8080/",
          "height": 672
        },
        "id": "4tIz4ywRQua6",
        "outputId": "78e91943-3029-45d1-c7e3-0e2fe8e13faa"
      },
      "outputs": [
        {
          "output_type": "execute_result",
          "data": {
            "text/plain": [
              "   VIN (1-10)     County          City State  Postal Code  Model Year    Make  \\\n",
              "0  1C4JJXP68P     Yakima        Yakima    WA      98901.0        2023    JEEP   \n",
              "1  WBY8P6C05L     Kitsap      Kingston    WA      98346.0        2020     BMW   \n",
              "2  JTDKARFP1J     Kitsap  Port Orchard    WA      98367.0        2018  TOYOTA   \n",
              "3  5UXTA6C09N  Snohomish       Everett    WA      98208.0        2022     BMW   \n",
              "4  JTMAB3FV7P   Thurston       Rainier    WA      98576.0        2023  TOYOTA   \n",
              "\n",
              "         Model                   Electric Vehicle Type  \\\n",
              "0     WRANGLER  Plug-in Hybrid Electric Vehicle (PHEV)   \n",
              "1           I3          Battery Electric Vehicle (BEV)   \n",
              "2  PRIUS PRIME  Plug-in Hybrid Electric Vehicle (PHEV)   \n",
              "3           X5  Plug-in Hybrid Electric Vehicle (PHEV)   \n",
              "4   RAV4 PRIME  Plug-in Hybrid Electric Vehicle (PHEV)   \n",
              "\n",
              "  Clean Alternative Fuel Vehicle (CAFV) Eligibility  ...  CAFV Eligibility  \\\n",
              "0             Not eligible due to low battery range  ...      Not Eligible   \n",
              "1           Clean Alternative Fuel Vehicle Eligible  ...      Not Eligible   \n",
              "2             Not eligible due to low battery range  ...      Not Eligible   \n",
              "3           Clean Alternative Fuel Vehicle Eligible  ...      Not Eligible   \n",
              "4           Clean Alternative Fuel Vehicle Eligible  ...      Not Eligible   \n",
              "\n",
              "   Urban_CAFV_Interaction_Urban_Not Eligible  Vehicle Age Yearly_Growth_Rate  \\\n",
              "0                                      False            1           0.454082   \n",
              "1                                      False            4          -0.506024   \n",
              "2                                      False            6           0.149007   \n",
              "3                                       True            2           0.485420   \n",
              "4                                       True            1           1.195812   \n",
              "\n",
              "  Quarter  Month  BEV_Proportion PHEV_Proportion Dominant_Manufacturer  \\\n",
              "0       1      1             0.0             0.0                 TESLA   \n",
              "1       1      1             0.0             0.0                 TESLA   \n",
              "2       1      1             0.0             0.0                 TESLA   \n",
              "3       1      1             0.0             0.0                 TESLA   \n",
              "4       1      1             0.0             0.0                 TESLA   \n",
              "\n",
              "   Dominant_Manufacturer_Proportion  \n",
              "0                          0.432252  \n",
              "1                          0.303797  \n",
              "2                          0.303797  \n",
              "3                          0.501246  \n",
              "4                          0.310382  \n",
              "\n",
              "[5 rows x 28 columns]"
            ],
            "text/html": [
              "\n",
              "  <div id=\"df-df0e0838-7377-4ee4-8f2c-8cf3e9a23b6f\" class=\"colab-df-container\">\n",
              "    <div>\n",
              "<style scoped>\n",
              "    .dataframe tbody tr th:only-of-type {\n",
              "        vertical-align: middle;\n",
              "    }\n",
              "\n",
              "    .dataframe tbody tr th {\n",
              "        vertical-align: top;\n",
              "    }\n",
              "\n",
              "    .dataframe thead th {\n",
              "        text-align: right;\n",
              "    }\n",
              "</style>\n",
              "<table border=\"1\" class=\"dataframe\">\n",
              "  <thead>\n",
              "    <tr style=\"text-align: right;\">\n",
              "      <th></th>\n",
              "      <th>VIN (1-10)</th>\n",
              "      <th>County</th>\n",
              "      <th>City</th>\n",
              "      <th>State</th>\n",
              "      <th>Postal Code</th>\n",
              "      <th>Model Year</th>\n",
              "      <th>Make</th>\n",
              "      <th>Model</th>\n",
              "      <th>Electric Vehicle Type</th>\n",
              "      <th>Clean Alternative Fuel Vehicle (CAFV) Eligibility</th>\n",
              "      <th>...</th>\n",
              "      <th>CAFV Eligibility</th>\n",
              "      <th>Urban_CAFV_Interaction_Urban_Not Eligible</th>\n",
              "      <th>Vehicle Age</th>\n",
              "      <th>Yearly_Growth_Rate</th>\n",
              "      <th>Quarter</th>\n",
              "      <th>Month</th>\n",
              "      <th>BEV_Proportion</th>\n",
              "      <th>PHEV_Proportion</th>\n",
              "      <th>Dominant_Manufacturer</th>\n",
              "      <th>Dominant_Manufacturer_Proportion</th>\n",
              "    </tr>\n",
              "  </thead>\n",
              "  <tbody>\n",
              "    <tr>\n",
              "      <th>0</th>\n",
              "      <td>1C4JJXP68P</td>\n",
              "      <td>Yakima</td>\n",
              "      <td>Yakima</td>\n",
              "      <td>WA</td>\n",
              "      <td>98901.0</td>\n",
              "      <td>2023</td>\n",
              "      <td>JEEP</td>\n",
              "      <td>WRANGLER</td>\n",
              "      <td>Plug-in Hybrid Electric Vehicle (PHEV)</td>\n",
              "      <td>Not eligible due to low battery range</td>\n",
              "      <td>...</td>\n",
              "      <td>Not Eligible</td>\n",
              "      <td>False</td>\n",
              "      <td>1</td>\n",
              "      <td>0.454082</td>\n",
              "      <td>1</td>\n",
              "      <td>1</td>\n",
              "      <td>0.0</td>\n",
              "      <td>0.0</td>\n",
              "      <td>TESLA</td>\n",
              "      <td>0.432252</td>\n",
              "    </tr>\n",
              "    <tr>\n",
              "      <th>1</th>\n",
              "      <td>WBY8P6C05L</td>\n",
              "      <td>Kitsap</td>\n",
              "      <td>Kingston</td>\n",
              "      <td>WA</td>\n",
              "      <td>98346.0</td>\n",
              "      <td>2020</td>\n",
              "      <td>BMW</td>\n",
              "      <td>I3</td>\n",
              "      <td>Battery Electric Vehicle (BEV)</td>\n",
              "      <td>Clean Alternative Fuel Vehicle Eligible</td>\n",
              "      <td>...</td>\n",
              "      <td>Not Eligible</td>\n",
              "      <td>False</td>\n",
              "      <td>4</td>\n",
              "      <td>-0.506024</td>\n",
              "      <td>1</td>\n",
              "      <td>1</td>\n",
              "      <td>0.0</td>\n",
              "      <td>0.0</td>\n",
              "      <td>TESLA</td>\n",
              "      <td>0.303797</td>\n",
              "    </tr>\n",
              "    <tr>\n",
              "      <th>2</th>\n",
              "      <td>JTDKARFP1J</td>\n",
              "      <td>Kitsap</td>\n",
              "      <td>Port Orchard</td>\n",
              "      <td>WA</td>\n",
              "      <td>98367.0</td>\n",
              "      <td>2018</td>\n",
              "      <td>TOYOTA</td>\n",
              "      <td>PRIUS PRIME</td>\n",
              "      <td>Plug-in Hybrid Electric Vehicle (PHEV)</td>\n",
              "      <td>Not eligible due to low battery range</td>\n",
              "      <td>...</td>\n",
              "      <td>Not Eligible</td>\n",
              "      <td>False</td>\n",
              "      <td>6</td>\n",
              "      <td>0.149007</td>\n",
              "      <td>1</td>\n",
              "      <td>1</td>\n",
              "      <td>0.0</td>\n",
              "      <td>0.0</td>\n",
              "      <td>TESLA</td>\n",
              "      <td>0.303797</td>\n",
              "    </tr>\n",
              "    <tr>\n",
              "      <th>3</th>\n",
              "      <td>5UXTA6C09N</td>\n",
              "      <td>Snohomish</td>\n",
              "      <td>Everett</td>\n",
              "      <td>WA</td>\n",
              "      <td>98208.0</td>\n",
              "      <td>2022</td>\n",
              "      <td>BMW</td>\n",
              "      <td>X5</td>\n",
              "      <td>Plug-in Hybrid Electric Vehicle (PHEV)</td>\n",
              "      <td>Clean Alternative Fuel Vehicle Eligible</td>\n",
              "      <td>...</td>\n",
              "      <td>Not Eligible</td>\n",
              "      <td>True</td>\n",
              "      <td>2</td>\n",
              "      <td>0.485420</td>\n",
              "      <td>1</td>\n",
              "      <td>1</td>\n",
              "      <td>0.0</td>\n",
              "      <td>0.0</td>\n",
              "      <td>TESLA</td>\n",
              "      <td>0.501246</td>\n",
              "    </tr>\n",
              "    <tr>\n",
              "      <th>4</th>\n",
              "      <td>JTMAB3FV7P</td>\n",
              "      <td>Thurston</td>\n",
              "      <td>Rainier</td>\n",
              "      <td>WA</td>\n",
              "      <td>98576.0</td>\n",
              "      <td>2023</td>\n",
              "      <td>TOYOTA</td>\n",
              "      <td>RAV4 PRIME</td>\n",
              "      <td>Plug-in Hybrid Electric Vehicle (PHEV)</td>\n",
              "      <td>Clean Alternative Fuel Vehicle Eligible</td>\n",
              "      <td>...</td>\n",
              "      <td>Not Eligible</td>\n",
              "      <td>True</td>\n",
              "      <td>1</td>\n",
              "      <td>1.195812</td>\n",
              "      <td>1</td>\n",
              "      <td>1</td>\n",
              "      <td>0.0</td>\n",
              "      <td>0.0</td>\n",
              "      <td>TESLA</td>\n",
              "      <td>0.310382</td>\n",
              "    </tr>\n",
              "  </tbody>\n",
              "</table>\n",
              "<p>5 rows × 28 columns</p>\n",
              "</div>\n",
              "    <div class=\"colab-df-buttons\">\n",
              "\n",
              "  <div class=\"colab-df-container\">\n",
              "    <button class=\"colab-df-convert\" onclick=\"convertToInteractive('df-df0e0838-7377-4ee4-8f2c-8cf3e9a23b6f')\"\n",
              "            title=\"Convert this dataframe to an interactive table.\"\n",
              "            style=\"display:none;\">\n",
              "\n",
              "  <svg xmlns=\"http://www.w3.org/2000/svg\" height=\"24px\" viewBox=\"0 -960 960 960\">\n",
              "    <path d=\"M120-120v-720h720v720H120Zm60-500h600v-160H180v160Zm220 220h160v-160H400v160Zm0 220h160v-160H400v160ZM180-400h160v-160H180v160Zm440 0h160v-160H620v160ZM180-180h160v-160H180v160Zm440 0h160v-160H620v160Z\"/>\n",
              "  </svg>\n",
              "    </button>\n",
              "\n",
              "  <style>\n",
              "    .colab-df-container {\n",
              "      display:flex;\n",
              "      gap: 12px;\n",
              "    }\n",
              "\n",
              "    .colab-df-convert {\n",
              "      background-color: #E8F0FE;\n",
              "      border: none;\n",
              "      border-radius: 50%;\n",
              "      cursor: pointer;\n",
              "      display: none;\n",
              "      fill: #1967D2;\n",
              "      height: 32px;\n",
              "      padding: 0 0 0 0;\n",
              "      width: 32px;\n",
              "    }\n",
              "\n",
              "    .colab-df-convert:hover {\n",
              "      background-color: #E2EBFA;\n",
              "      box-shadow: 0px 1px 2px rgba(60, 64, 67, 0.3), 0px 1px 3px 1px rgba(60, 64, 67, 0.15);\n",
              "      fill: #174EA6;\n",
              "    }\n",
              "\n",
              "    .colab-df-buttons div {\n",
              "      margin-bottom: 4px;\n",
              "    }\n",
              "\n",
              "    [theme=dark] .colab-df-convert {\n",
              "      background-color: #3B4455;\n",
              "      fill: #D2E3FC;\n",
              "    }\n",
              "\n",
              "    [theme=dark] .colab-df-convert:hover {\n",
              "      background-color: #434B5C;\n",
              "      box-shadow: 0px 1px 3px 1px rgba(0, 0, 0, 0.15);\n",
              "      filter: drop-shadow(0px 1px 2px rgba(0, 0, 0, 0.3));\n",
              "      fill: #FFFFFF;\n",
              "    }\n",
              "  </style>\n",
              "\n",
              "    <script>\n",
              "      const buttonEl =\n",
              "        document.querySelector('#df-df0e0838-7377-4ee4-8f2c-8cf3e9a23b6f button.colab-df-convert');\n",
              "      buttonEl.style.display =\n",
              "        google.colab.kernel.accessAllowed ? 'block' : 'none';\n",
              "\n",
              "      async function convertToInteractive(key) {\n",
              "        const element = document.querySelector('#df-df0e0838-7377-4ee4-8f2c-8cf3e9a23b6f');\n",
              "        const dataTable =\n",
              "          await google.colab.kernel.invokeFunction('convertToInteractive',\n",
              "                                                    [key], {});\n",
              "        if (!dataTable) return;\n",
              "\n",
              "        const docLinkHtml = 'Like what you see? Visit the ' +\n",
              "          '<a target=\"_blank\" href=https://colab.research.google.com/notebooks/data_table.ipynb>data table notebook</a>'\n",
              "          + ' to learn more about interactive tables.';\n",
              "        element.innerHTML = '';\n",
              "        dataTable['output_type'] = 'display_data';\n",
              "        await google.colab.output.renderOutput(dataTable, element);\n",
              "        const docLink = document.createElement('div');\n",
              "        docLink.innerHTML = docLinkHtml;\n",
              "        element.appendChild(docLink);\n",
              "      }\n",
              "    </script>\n",
              "  </div>\n",
              "\n",
              "\n",
              "<div id=\"df-1a39e258-9a68-484c-8016-1ae297dbad63\">\n",
              "  <button class=\"colab-df-quickchart\" onclick=\"quickchart('df-1a39e258-9a68-484c-8016-1ae297dbad63')\"\n",
              "            title=\"Suggest charts\"\n",
              "            style=\"display:none;\">\n",
              "\n",
              "<svg xmlns=\"http://www.w3.org/2000/svg\" height=\"24px\"viewBox=\"0 0 24 24\"\n",
              "     width=\"24px\">\n",
              "    <g>\n",
              "        <path d=\"M19 3H5c-1.1 0-2 .9-2 2v14c0 1.1.9 2 2 2h14c1.1 0 2-.9 2-2V5c0-1.1-.9-2-2-2zM9 17H7v-7h2v7zm4 0h-2V7h2v10zm4 0h-2v-4h2v4z\"/>\n",
              "    </g>\n",
              "</svg>\n",
              "  </button>\n",
              "\n",
              "<style>\n",
              "  .colab-df-quickchart {\n",
              "      --bg-color: #E8F0FE;\n",
              "      --fill-color: #1967D2;\n",
              "      --hover-bg-color: #E2EBFA;\n",
              "      --hover-fill-color: #174EA6;\n",
              "      --disabled-fill-color: #AAA;\n",
              "      --disabled-bg-color: #DDD;\n",
              "  }\n",
              "\n",
              "  [theme=dark] .colab-df-quickchart {\n",
              "      --bg-color: #3B4455;\n",
              "      --fill-color: #D2E3FC;\n",
              "      --hover-bg-color: #434B5C;\n",
              "      --hover-fill-color: #FFFFFF;\n",
              "      --disabled-bg-color: #3B4455;\n",
              "      --disabled-fill-color: #666;\n",
              "  }\n",
              "\n",
              "  .colab-df-quickchart {\n",
              "    background-color: var(--bg-color);\n",
              "    border: none;\n",
              "    border-radius: 50%;\n",
              "    cursor: pointer;\n",
              "    display: none;\n",
              "    fill: var(--fill-color);\n",
              "    height: 32px;\n",
              "    padding: 0;\n",
              "    width: 32px;\n",
              "  }\n",
              "\n",
              "  .colab-df-quickchart:hover {\n",
              "    background-color: var(--hover-bg-color);\n",
              "    box-shadow: 0 1px 2px rgba(60, 64, 67, 0.3), 0 1px 3px 1px rgba(60, 64, 67, 0.15);\n",
              "    fill: var(--button-hover-fill-color);\n",
              "  }\n",
              "\n",
              "  .colab-df-quickchart-complete:disabled,\n",
              "  .colab-df-quickchart-complete:disabled:hover {\n",
              "    background-color: var(--disabled-bg-color);\n",
              "    fill: var(--disabled-fill-color);\n",
              "    box-shadow: none;\n",
              "  }\n",
              "\n",
              "  .colab-df-spinner {\n",
              "    border: 2px solid var(--fill-color);\n",
              "    border-color: transparent;\n",
              "    border-bottom-color: var(--fill-color);\n",
              "    animation:\n",
              "      spin 1s steps(1) infinite;\n",
              "  }\n",
              "\n",
              "  @keyframes spin {\n",
              "    0% {\n",
              "      border-color: transparent;\n",
              "      border-bottom-color: var(--fill-color);\n",
              "      border-left-color: var(--fill-color);\n",
              "    }\n",
              "    20% {\n",
              "      border-color: transparent;\n",
              "      border-left-color: var(--fill-color);\n",
              "      border-top-color: var(--fill-color);\n",
              "    }\n",
              "    30% {\n",
              "      border-color: transparent;\n",
              "      border-left-color: var(--fill-color);\n",
              "      border-top-color: var(--fill-color);\n",
              "      border-right-color: var(--fill-color);\n",
              "    }\n",
              "    40% {\n",
              "      border-color: transparent;\n",
              "      border-right-color: var(--fill-color);\n",
              "      border-top-color: var(--fill-color);\n",
              "    }\n",
              "    60% {\n",
              "      border-color: transparent;\n",
              "      border-right-color: var(--fill-color);\n",
              "    }\n",
              "    80% {\n",
              "      border-color: transparent;\n",
              "      border-right-color: var(--fill-color);\n",
              "      border-bottom-color: var(--fill-color);\n",
              "    }\n",
              "    90% {\n",
              "      border-color: transparent;\n",
              "      border-bottom-color: var(--fill-color);\n",
              "    }\n",
              "  }\n",
              "</style>\n",
              "\n",
              "  <script>\n",
              "    async function quickchart(key) {\n",
              "      const quickchartButtonEl =\n",
              "        document.querySelector('#' + key + ' button');\n",
              "      quickchartButtonEl.disabled = true;  // To prevent multiple clicks.\n",
              "      quickchartButtonEl.classList.add('colab-df-spinner');\n",
              "      try {\n",
              "        const charts = await google.colab.kernel.invokeFunction(\n",
              "            'suggestCharts', [key], {});\n",
              "      } catch (error) {\n",
              "        console.error('Error during call to suggestCharts:', error);\n",
              "      }\n",
              "      quickchartButtonEl.classList.remove('colab-df-spinner');\n",
              "      quickchartButtonEl.classList.add('colab-df-quickchart-complete');\n",
              "    }\n",
              "    (() => {\n",
              "      let quickchartButtonEl =\n",
              "        document.querySelector('#df-1a39e258-9a68-484c-8016-1ae297dbad63 button');\n",
              "      quickchartButtonEl.style.display =\n",
              "        google.colab.kernel.accessAllowed ? 'block' : 'none';\n",
              "    })();\n",
              "  </script>\n",
              "</div>\n",
              "\n",
              "    </div>\n",
              "  </div>\n"
            ],
            "application/vnd.google.colaboratory.intrinsic+json": {
              "type": "dataframe",
              "variable_name": "df"
            }
          },
          "metadata": {},
          "execution_count": 4
        }
      ],
      "source": [
        "df = pd.read_csv(data_path)\n",
        "# Display the first few rows of the DataFrame\n",
        "df.head()"
      ]
    },
    {
      "cell_type": "code",
      "source": [
        "print(df.columns)"
      ],
      "metadata": {
        "colab": {
          "base_uri": "https://localhost:8080/"
        },
        "id": "JuOhwVdPRaI9",
        "outputId": "d27b69ec-6574-4b23-e152-ef15774d4ac2"
      },
      "execution_count": 5,
      "outputs": [
        {
          "output_type": "stream",
          "name": "stdout",
          "text": [
            "Index(['VIN (1-10)', 'County', 'City', 'State', 'Postal Code', 'Model Year',\n",
            "       'Make', 'Model', 'Electric Vehicle Type',\n",
            "       'Clean Alternative Fuel Vehicle (CAFV) Eligibility', 'Electric Range',\n",
            "       'Base MSRP', 'DOL Vehicle ID', 'Vehicle Location', 'Electric Utility',\n",
            "       '2020 Census Tract', 'Make_Proportion', 'Urban', 'CAFV Eligibility',\n",
            "       'Urban_CAFV_Interaction_Urban_Not Eligible', 'Vehicle Age',\n",
            "       'Yearly_Growth_Rate', 'Quarter', 'Month', 'BEV_Proportion',\n",
            "       'PHEV_Proportion', 'Dominant_Manufacturer',\n",
            "       'Dominant_Manufacturer_Proportion'],\n",
            "      dtype='object')\n"
          ]
        }
      ]
    },
    {
      "cell_type": "markdown",
      "source": [
        "# Objective 1: Geographic Distribution Analysis\n",
        "\n",
        "Goal: Understand regional EV adoption trends and identify areas that may benefit from additional support or incentives to encourage higher adoption of EVs.\n",
        "\n",
        "Modeling Approach: Classification Model\n",
        "\n",
        "Objective: Classify regions (counties/cities) as high or low EV adoption areas based on the available features.\n",
        "\n",
        "Technique: Random Forest Classifier (or Decision Tree Classifier)\n",
        "\n",
        "\n",
        "**Define Features and Target:**\n",
        "\n",
        "Features: Selected relevant features that might influence EV adoption, such as Make_Proportion, Urban, CAFV Eligibility, Dominant_Manufacturer_Proportion, etc.\n",
        "\n",
        "Target: Defined the target as a binary variable indicating high or low EV adoption."
      ],
      "metadata": {
        "id": "miQSnKvZTDhY"
      }
    },
    {
      "cell_type": "markdown",
      "source": [
        "**Handling Missing Values**"
      ],
      "metadata": {
        "id": "7U3QUxY-WzBC"
      }
    },
    {
      "cell_type": "markdown",
      "source": [
        "**Impute Missing Values**\n",
        "\n",
        "I have to fill in the missing values using methods like filling with the mean, median, or a constant value."
      ],
      "metadata": {
        "id": "55NsUOsmW36e"
      }
    },
    {
      "cell_type": "code",
      "source": [
        "from sklearn.impute import SimpleImputer\n",
        "\n",
        "# Create an imputer object with a strategy to fill missing values (e.g., with the mean)\n",
        "imputer = SimpleImputer(strategy='mean')\n",
        "\n",
        "# Fit the imputer on the training data and transform both training and test data\n",
        "X_train = imputer.fit_transform(X_train)\n",
        "X_test = imputer.transform(X_test)\n"
      ],
      "metadata": {
        "id": "bwqZNUXMWvRN"
      },
      "execution_count": 15,
      "outputs": []
    },
    {
      "cell_type": "code",
      "source": [
        "# Assuming 'Electric Vehicle Type' column indicates the number of EVs\n",
        "county_ev_counts = df.groupby('County')['Electric Vehicle Type'].count()\n",
        "\n",
        "# Determine the median count to set the threshold\n",
        "median_ev_count = county_ev_counts.median()\n",
        "\n",
        "# Create the 'High_Low_Adoption' column\n",
        "df['High_Low_Adoption'] = df['County'].map(lambda x: 1 if county_ev_counts[x] > median_ev_count else 0)"
      ],
      "metadata": {
        "id": "62OmoolSZWIx"
      },
      "execution_count": 30,
      "outputs": []
    },
    {
      "cell_type": "code",
      "source": [
        "print(df.columns)"
      ],
      "metadata": {
        "colab": {
          "base_uri": "https://localhost:8080/"
        },
        "id": "47EQixkgZury",
        "outputId": "372e021b-b770-4903-aa3a-89ae730d0775"
      },
      "execution_count": 31,
      "outputs": [
        {
          "output_type": "stream",
          "name": "stdout",
          "text": [
            "Index(['VIN (1-10)', 'County', 'City', 'State', 'Postal Code', 'Model Year',\n",
            "       'Make', 'Model', 'Electric Vehicle Type',\n",
            "       'Clean Alternative Fuel Vehicle (CAFV) Eligibility', 'Electric Range',\n",
            "       'Base MSRP', 'DOL Vehicle ID', 'Vehicle Location', 'Electric Utility',\n",
            "       '2020 Census Tract', 'Make_Proportion', 'Urban', 'CAFV Eligibility',\n",
            "       'Urban_CAFV_Interaction_Urban_Not Eligible', 'Vehicle Age',\n",
            "       'Yearly_Growth_Rate', 'Quarter', 'Month', 'BEV_Proportion',\n",
            "       'PHEV_Proportion', 'Dominant_Manufacturer',\n",
            "       'Dominant_Manufacturer_Proportion', 'High_Low_Adoption'],\n",
            "      dtype='object')\n"
          ]
        }
      ]
    },
    {
      "cell_type": "code",
      "source": [
        "df.head()"
      ],
      "metadata": {
        "colab": {
          "base_uri": "https://localhost:8080/",
          "height": 672
        },
        "id": "G3YoAzoKZxqq",
        "outputId": "ab112f22-8857-4147-8255-0ededc08bd4f"
      },
      "execution_count": 32,
      "outputs": [
        {
          "output_type": "execute_result",
          "data": {
            "text/plain": [
              "   VIN (1-10)     County          City State  Postal Code  Model Year    Make  \\\n",
              "0  1C4JJXP68P     Yakima        Yakima    WA      98901.0        2023    JEEP   \n",
              "1  WBY8P6C05L     Kitsap      Kingston    WA      98346.0        2020     BMW   \n",
              "2  JTDKARFP1J     Kitsap  Port Orchard    WA      98367.0        2018  TOYOTA   \n",
              "3  5UXTA6C09N  Snohomish       Everett    WA      98208.0        2022     BMW   \n",
              "4  JTMAB3FV7P   Thurston       Rainier    WA      98576.0        2023  TOYOTA   \n",
              "\n",
              "         Model                   Electric Vehicle Type  \\\n",
              "0     WRANGLER  Plug-in Hybrid Electric Vehicle (PHEV)   \n",
              "1           I3          Battery Electric Vehicle (BEV)   \n",
              "2  PRIUS PRIME  Plug-in Hybrid Electric Vehicle (PHEV)   \n",
              "3           X5  Plug-in Hybrid Electric Vehicle (PHEV)   \n",
              "4   RAV4 PRIME  Plug-in Hybrid Electric Vehicle (PHEV)   \n",
              "\n",
              "  Clean Alternative Fuel Vehicle (CAFV) Eligibility  ...  \\\n",
              "0             Not eligible due to low battery range  ...   \n",
              "1           Clean Alternative Fuel Vehicle Eligible  ...   \n",
              "2             Not eligible due to low battery range  ...   \n",
              "3           Clean Alternative Fuel Vehicle Eligible  ...   \n",
              "4           Clean Alternative Fuel Vehicle Eligible  ...   \n",
              "\n",
              "   Urban_CAFV_Interaction_Urban_Not Eligible  Vehicle Age  Yearly_Growth_Rate  \\\n",
              "0                                      False            1            0.454082   \n",
              "1                                      False            4           -0.506024   \n",
              "2                                      False            6            0.149007   \n",
              "3                                       True            2            0.485420   \n",
              "4                                       True            1            1.195812   \n",
              "\n",
              "  Quarter Month  BEV_Proportion  PHEV_Proportion Dominant_Manufacturer  \\\n",
              "0       1     1             0.0              0.0                 TESLA   \n",
              "1       1     1             0.0              0.0                 TESLA   \n",
              "2       1     1             0.0              0.0                 TESLA   \n",
              "3       1     1             0.0              0.0                 TESLA   \n",
              "4       1     1             0.0              0.0                 TESLA   \n",
              "\n",
              "  Dominant_Manufacturer_Proportion  High_Low_Adoption  \n",
              "0                         0.432252                  1  \n",
              "1                         0.303797                  1  \n",
              "2                         0.303797                  1  \n",
              "3                         0.501246                  1  \n",
              "4                         0.310382                  1  \n",
              "\n",
              "[5 rows x 29 columns]"
            ],
            "text/html": [
              "\n",
              "  <div id=\"df-ee6b2147-5d41-44bc-aefe-623ac9db290b\" class=\"colab-df-container\">\n",
              "    <div>\n",
              "<style scoped>\n",
              "    .dataframe tbody tr th:only-of-type {\n",
              "        vertical-align: middle;\n",
              "    }\n",
              "\n",
              "    .dataframe tbody tr th {\n",
              "        vertical-align: top;\n",
              "    }\n",
              "\n",
              "    .dataframe thead th {\n",
              "        text-align: right;\n",
              "    }\n",
              "</style>\n",
              "<table border=\"1\" class=\"dataframe\">\n",
              "  <thead>\n",
              "    <tr style=\"text-align: right;\">\n",
              "      <th></th>\n",
              "      <th>VIN (1-10)</th>\n",
              "      <th>County</th>\n",
              "      <th>City</th>\n",
              "      <th>State</th>\n",
              "      <th>Postal Code</th>\n",
              "      <th>Model Year</th>\n",
              "      <th>Make</th>\n",
              "      <th>Model</th>\n",
              "      <th>Electric Vehicle Type</th>\n",
              "      <th>Clean Alternative Fuel Vehicle (CAFV) Eligibility</th>\n",
              "      <th>...</th>\n",
              "      <th>Urban_CAFV_Interaction_Urban_Not Eligible</th>\n",
              "      <th>Vehicle Age</th>\n",
              "      <th>Yearly_Growth_Rate</th>\n",
              "      <th>Quarter</th>\n",
              "      <th>Month</th>\n",
              "      <th>BEV_Proportion</th>\n",
              "      <th>PHEV_Proportion</th>\n",
              "      <th>Dominant_Manufacturer</th>\n",
              "      <th>Dominant_Manufacturer_Proportion</th>\n",
              "      <th>High_Low_Adoption</th>\n",
              "    </tr>\n",
              "  </thead>\n",
              "  <tbody>\n",
              "    <tr>\n",
              "      <th>0</th>\n",
              "      <td>1C4JJXP68P</td>\n",
              "      <td>Yakima</td>\n",
              "      <td>Yakima</td>\n",
              "      <td>WA</td>\n",
              "      <td>98901.0</td>\n",
              "      <td>2023</td>\n",
              "      <td>JEEP</td>\n",
              "      <td>WRANGLER</td>\n",
              "      <td>Plug-in Hybrid Electric Vehicle (PHEV)</td>\n",
              "      <td>Not eligible due to low battery range</td>\n",
              "      <td>...</td>\n",
              "      <td>False</td>\n",
              "      <td>1</td>\n",
              "      <td>0.454082</td>\n",
              "      <td>1</td>\n",
              "      <td>1</td>\n",
              "      <td>0.0</td>\n",
              "      <td>0.0</td>\n",
              "      <td>TESLA</td>\n",
              "      <td>0.432252</td>\n",
              "      <td>1</td>\n",
              "    </tr>\n",
              "    <tr>\n",
              "      <th>1</th>\n",
              "      <td>WBY8P6C05L</td>\n",
              "      <td>Kitsap</td>\n",
              "      <td>Kingston</td>\n",
              "      <td>WA</td>\n",
              "      <td>98346.0</td>\n",
              "      <td>2020</td>\n",
              "      <td>BMW</td>\n",
              "      <td>I3</td>\n",
              "      <td>Battery Electric Vehicle (BEV)</td>\n",
              "      <td>Clean Alternative Fuel Vehicle Eligible</td>\n",
              "      <td>...</td>\n",
              "      <td>False</td>\n",
              "      <td>4</td>\n",
              "      <td>-0.506024</td>\n",
              "      <td>1</td>\n",
              "      <td>1</td>\n",
              "      <td>0.0</td>\n",
              "      <td>0.0</td>\n",
              "      <td>TESLA</td>\n",
              "      <td>0.303797</td>\n",
              "      <td>1</td>\n",
              "    </tr>\n",
              "    <tr>\n",
              "      <th>2</th>\n",
              "      <td>JTDKARFP1J</td>\n",
              "      <td>Kitsap</td>\n",
              "      <td>Port Orchard</td>\n",
              "      <td>WA</td>\n",
              "      <td>98367.0</td>\n",
              "      <td>2018</td>\n",
              "      <td>TOYOTA</td>\n",
              "      <td>PRIUS PRIME</td>\n",
              "      <td>Plug-in Hybrid Electric Vehicle (PHEV)</td>\n",
              "      <td>Not eligible due to low battery range</td>\n",
              "      <td>...</td>\n",
              "      <td>False</td>\n",
              "      <td>6</td>\n",
              "      <td>0.149007</td>\n",
              "      <td>1</td>\n",
              "      <td>1</td>\n",
              "      <td>0.0</td>\n",
              "      <td>0.0</td>\n",
              "      <td>TESLA</td>\n",
              "      <td>0.303797</td>\n",
              "      <td>1</td>\n",
              "    </tr>\n",
              "    <tr>\n",
              "      <th>3</th>\n",
              "      <td>5UXTA6C09N</td>\n",
              "      <td>Snohomish</td>\n",
              "      <td>Everett</td>\n",
              "      <td>WA</td>\n",
              "      <td>98208.0</td>\n",
              "      <td>2022</td>\n",
              "      <td>BMW</td>\n",
              "      <td>X5</td>\n",
              "      <td>Plug-in Hybrid Electric Vehicle (PHEV)</td>\n",
              "      <td>Clean Alternative Fuel Vehicle Eligible</td>\n",
              "      <td>...</td>\n",
              "      <td>True</td>\n",
              "      <td>2</td>\n",
              "      <td>0.485420</td>\n",
              "      <td>1</td>\n",
              "      <td>1</td>\n",
              "      <td>0.0</td>\n",
              "      <td>0.0</td>\n",
              "      <td>TESLA</td>\n",
              "      <td>0.501246</td>\n",
              "      <td>1</td>\n",
              "    </tr>\n",
              "    <tr>\n",
              "      <th>4</th>\n",
              "      <td>JTMAB3FV7P</td>\n",
              "      <td>Thurston</td>\n",
              "      <td>Rainier</td>\n",
              "      <td>WA</td>\n",
              "      <td>98576.0</td>\n",
              "      <td>2023</td>\n",
              "      <td>TOYOTA</td>\n",
              "      <td>RAV4 PRIME</td>\n",
              "      <td>Plug-in Hybrid Electric Vehicle (PHEV)</td>\n",
              "      <td>Clean Alternative Fuel Vehicle Eligible</td>\n",
              "      <td>...</td>\n",
              "      <td>True</td>\n",
              "      <td>1</td>\n",
              "      <td>1.195812</td>\n",
              "      <td>1</td>\n",
              "      <td>1</td>\n",
              "      <td>0.0</td>\n",
              "      <td>0.0</td>\n",
              "      <td>TESLA</td>\n",
              "      <td>0.310382</td>\n",
              "      <td>1</td>\n",
              "    </tr>\n",
              "  </tbody>\n",
              "</table>\n",
              "<p>5 rows × 29 columns</p>\n",
              "</div>\n",
              "    <div class=\"colab-df-buttons\">\n",
              "\n",
              "  <div class=\"colab-df-container\">\n",
              "    <button class=\"colab-df-convert\" onclick=\"convertToInteractive('df-ee6b2147-5d41-44bc-aefe-623ac9db290b')\"\n",
              "            title=\"Convert this dataframe to an interactive table.\"\n",
              "            style=\"display:none;\">\n",
              "\n",
              "  <svg xmlns=\"http://www.w3.org/2000/svg\" height=\"24px\" viewBox=\"0 -960 960 960\">\n",
              "    <path d=\"M120-120v-720h720v720H120Zm60-500h600v-160H180v160Zm220 220h160v-160H400v160Zm0 220h160v-160H400v160ZM180-400h160v-160H180v160Zm440 0h160v-160H620v160ZM180-180h160v-160H180v160Zm440 0h160v-160H620v160Z\"/>\n",
              "  </svg>\n",
              "    </button>\n",
              "\n",
              "  <style>\n",
              "    .colab-df-container {\n",
              "      display:flex;\n",
              "      gap: 12px;\n",
              "    }\n",
              "\n",
              "    .colab-df-convert {\n",
              "      background-color: #E8F0FE;\n",
              "      border: none;\n",
              "      border-radius: 50%;\n",
              "      cursor: pointer;\n",
              "      display: none;\n",
              "      fill: #1967D2;\n",
              "      height: 32px;\n",
              "      padding: 0 0 0 0;\n",
              "      width: 32px;\n",
              "    }\n",
              "\n",
              "    .colab-df-convert:hover {\n",
              "      background-color: #E2EBFA;\n",
              "      box-shadow: 0px 1px 2px rgba(60, 64, 67, 0.3), 0px 1px 3px 1px rgba(60, 64, 67, 0.15);\n",
              "      fill: #174EA6;\n",
              "    }\n",
              "\n",
              "    .colab-df-buttons div {\n",
              "      margin-bottom: 4px;\n",
              "    }\n",
              "\n",
              "    [theme=dark] .colab-df-convert {\n",
              "      background-color: #3B4455;\n",
              "      fill: #D2E3FC;\n",
              "    }\n",
              "\n",
              "    [theme=dark] .colab-df-convert:hover {\n",
              "      background-color: #434B5C;\n",
              "      box-shadow: 0px 1px 3px 1px rgba(0, 0, 0, 0.15);\n",
              "      filter: drop-shadow(0px 1px 2px rgba(0, 0, 0, 0.3));\n",
              "      fill: #FFFFFF;\n",
              "    }\n",
              "  </style>\n",
              "\n",
              "    <script>\n",
              "      const buttonEl =\n",
              "        document.querySelector('#df-ee6b2147-5d41-44bc-aefe-623ac9db290b button.colab-df-convert');\n",
              "      buttonEl.style.display =\n",
              "        google.colab.kernel.accessAllowed ? 'block' : 'none';\n",
              "\n",
              "      async function convertToInteractive(key) {\n",
              "        const element = document.querySelector('#df-ee6b2147-5d41-44bc-aefe-623ac9db290b');\n",
              "        const dataTable =\n",
              "          await google.colab.kernel.invokeFunction('convertToInteractive',\n",
              "                                                    [key], {});\n",
              "        if (!dataTable) return;\n",
              "\n",
              "        const docLinkHtml = 'Like what you see? Visit the ' +\n",
              "          '<a target=\"_blank\" href=https://colab.research.google.com/notebooks/data_table.ipynb>data table notebook</a>'\n",
              "          + ' to learn more about interactive tables.';\n",
              "        element.innerHTML = '';\n",
              "        dataTable['output_type'] = 'display_data';\n",
              "        await google.colab.output.renderOutput(dataTable, element);\n",
              "        const docLink = document.createElement('div');\n",
              "        docLink.innerHTML = docLinkHtml;\n",
              "        element.appendChild(docLink);\n",
              "      }\n",
              "    </script>\n",
              "  </div>\n",
              "\n",
              "\n",
              "<div id=\"df-fca1c1ae-52dc-47f4-9adf-649c6558f74b\">\n",
              "  <button class=\"colab-df-quickchart\" onclick=\"quickchart('df-fca1c1ae-52dc-47f4-9adf-649c6558f74b')\"\n",
              "            title=\"Suggest charts\"\n",
              "            style=\"display:none;\">\n",
              "\n",
              "<svg xmlns=\"http://www.w3.org/2000/svg\" height=\"24px\"viewBox=\"0 0 24 24\"\n",
              "     width=\"24px\">\n",
              "    <g>\n",
              "        <path d=\"M19 3H5c-1.1 0-2 .9-2 2v14c0 1.1.9 2 2 2h14c1.1 0 2-.9 2-2V5c0-1.1-.9-2-2-2zM9 17H7v-7h2v7zm4 0h-2V7h2v10zm4 0h-2v-4h2v4z\"/>\n",
              "    </g>\n",
              "</svg>\n",
              "  </button>\n",
              "\n",
              "<style>\n",
              "  .colab-df-quickchart {\n",
              "      --bg-color: #E8F0FE;\n",
              "      --fill-color: #1967D2;\n",
              "      --hover-bg-color: #E2EBFA;\n",
              "      --hover-fill-color: #174EA6;\n",
              "      --disabled-fill-color: #AAA;\n",
              "      --disabled-bg-color: #DDD;\n",
              "  }\n",
              "\n",
              "  [theme=dark] .colab-df-quickchart {\n",
              "      --bg-color: #3B4455;\n",
              "      --fill-color: #D2E3FC;\n",
              "      --hover-bg-color: #434B5C;\n",
              "      --hover-fill-color: #FFFFFF;\n",
              "      --disabled-bg-color: #3B4455;\n",
              "      --disabled-fill-color: #666;\n",
              "  }\n",
              "\n",
              "  .colab-df-quickchart {\n",
              "    background-color: var(--bg-color);\n",
              "    border: none;\n",
              "    border-radius: 50%;\n",
              "    cursor: pointer;\n",
              "    display: none;\n",
              "    fill: var(--fill-color);\n",
              "    height: 32px;\n",
              "    padding: 0;\n",
              "    width: 32px;\n",
              "  }\n",
              "\n",
              "  .colab-df-quickchart:hover {\n",
              "    background-color: var(--hover-bg-color);\n",
              "    box-shadow: 0 1px 2px rgba(60, 64, 67, 0.3), 0 1px 3px 1px rgba(60, 64, 67, 0.15);\n",
              "    fill: var(--button-hover-fill-color);\n",
              "  }\n",
              "\n",
              "  .colab-df-quickchart-complete:disabled,\n",
              "  .colab-df-quickchart-complete:disabled:hover {\n",
              "    background-color: var(--disabled-bg-color);\n",
              "    fill: var(--disabled-fill-color);\n",
              "    box-shadow: none;\n",
              "  }\n",
              "\n",
              "  .colab-df-spinner {\n",
              "    border: 2px solid var(--fill-color);\n",
              "    border-color: transparent;\n",
              "    border-bottom-color: var(--fill-color);\n",
              "    animation:\n",
              "      spin 1s steps(1) infinite;\n",
              "  }\n",
              "\n",
              "  @keyframes spin {\n",
              "    0% {\n",
              "      border-color: transparent;\n",
              "      border-bottom-color: var(--fill-color);\n",
              "      border-left-color: var(--fill-color);\n",
              "    }\n",
              "    20% {\n",
              "      border-color: transparent;\n",
              "      border-left-color: var(--fill-color);\n",
              "      border-top-color: var(--fill-color);\n",
              "    }\n",
              "    30% {\n",
              "      border-color: transparent;\n",
              "      border-left-color: var(--fill-color);\n",
              "      border-top-color: var(--fill-color);\n",
              "      border-right-color: var(--fill-color);\n",
              "    }\n",
              "    40% {\n",
              "      border-color: transparent;\n",
              "      border-right-color: var(--fill-color);\n",
              "      border-top-color: var(--fill-color);\n",
              "    }\n",
              "    60% {\n",
              "      border-color: transparent;\n",
              "      border-right-color: var(--fill-color);\n",
              "    }\n",
              "    80% {\n",
              "      border-color: transparent;\n",
              "      border-right-color: var(--fill-color);\n",
              "      border-bottom-color: var(--fill-color);\n",
              "    }\n",
              "    90% {\n",
              "      border-color: transparent;\n",
              "      border-bottom-color: var(--fill-color);\n",
              "    }\n",
              "  }\n",
              "</style>\n",
              "\n",
              "  <script>\n",
              "    async function quickchart(key) {\n",
              "      const quickchartButtonEl =\n",
              "        document.querySelector('#' + key + ' button');\n",
              "      quickchartButtonEl.disabled = true;  // To prevent multiple clicks.\n",
              "      quickchartButtonEl.classList.add('colab-df-spinner');\n",
              "      try {\n",
              "        const charts = await google.colab.kernel.invokeFunction(\n",
              "            'suggestCharts', [key], {});\n",
              "      } catch (error) {\n",
              "        console.error('Error during call to suggestCharts:', error);\n",
              "      }\n",
              "      quickchartButtonEl.classList.remove('colab-df-spinner');\n",
              "      quickchartButtonEl.classList.add('colab-df-quickchart-complete');\n",
              "    }\n",
              "    (() => {\n",
              "      let quickchartButtonEl =\n",
              "        document.querySelector('#df-fca1c1ae-52dc-47f4-9adf-649c6558f74b button');\n",
              "      quickchartButtonEl.style.display =\n",
              "        google.colab.kernel.accessAllowed ? 'block' : 'none';\n",
              "    })();\n",
              "  </script>\n",
              "</div>\n",
              "\n",
              "    </div>\n",
              "  </div>\n"
            ],
            "application/vnd.google.colaboratory.intrinsic+json": {
              "type": "dataframe",
              "variable_name": "df"
            }
          },
          "metadata": {},
          "execution_count": 32
        }
      ]
    },
    {
      "cell_type": "code",
      "source": [
        "from sklearn.impute import SimpleImputer\n",
        "from sklearn.ensemble import RandomForestClassifier\n",
        "from sklearn.model_selection import train_test_split\n",
        "from sklearn.metrics import classification_report, accuracy_score\n",
        "\n",
        "# Define features and target\n",
        "features = ['Make_Proportion', 'Urban', 'CAFV Eligibility', 'Dominant_Manufacturer_Proportion',\n",
        "            'Vehicle Age', 'Yearly_Growth_Rate']\n",
        "X = df[features]\n",
        "y = df['High_Low_Adoption']\n",
        "\n",
        "# Convert categorical variables to numeric if needed\n",
        "X = pd.get_dummies(X, drop_first=True)\n",
        "\n",
        "# Handle missing values\n",
        "imputer = SimpleImputer(strategy='mean')\n",
        "X = imputer.fit_transform(X)\n",
        "\n",
        "# Train-test split\n",
        "X_train, X_test, y_train, y_test = train_test_split(X, y, test_size=0.3, random_state=42)\n",
        "\n",
        "# Train the model\n",
        "model = RandomForestClassifier(random_state=42)\n",
        "model.fit(X_train, y_train)\n",
        "\n",
        "# Predictions\n",
        "y_pred = model.predict(X_test)\n",
        "\n",
        "# Evaluate the model\n",
        "print(classification_report(y_test, y_pred))\n",
        "print(f\"Accuracy: {accuracy_score(y_test, y_pred) * 100:.2f}%\")\n"
      ],
      "metadata": {
        "colab": {
          "base_uri": "https://localhost:8080/"
        },
        "id": "XWggx3ReYPY0",
        "outputId": "455f52f1-4220-41a3-9039-6cca25c57f02"
      },
      "execution_count": 33,
      "outputs": [
        {
          "output_type": "stream",
          "name": "stdout",
          "text": [
            "              precision    recall  f1-score   support\n",
            "\n",
            "           0       1.00      1.00      1.00      1541\n",
            "           1       1.00      1.00      1.00     51207\n",
            "\n",
            "    accuracy                           1.00     52748\n",
            "   macro avg       1.00      1.00      1.00     52748\n",
            "weighted avg       1.00      1.00      1.00     52748\n",
            "\n",
            "Accuracy: 100.00%\n"
          ]
        }
      ]
    },
    {
      "cell_type": "markdown",
      "source": [
        "# Interpretation of Results:\n",
        "\n",
        "**Perfect Scores:**\n",
        "\n",
        "Precision, Recall, and F1-Score: All being 1.00 (or 100%) for both classes (0 and 1) suggests that the model is perfectly classifying every instance.\n",
        "\n",
        "Accuracy: An accuracy of 100% typically indicates that the model is correctly predicting all instances."
      ],
      "metadata": {
        "id": "Mmyu6VOPcRxe"
      }
    },
    {
      "cell_type": "markdown",
      "source": [
        "# Ensure to Validation"
      ],
      "metadata": {
        "id": "2IsBfVgzayW7"
      }
    },
    {
      "cell_type": "code",
      "source": [
        "# Class Distribution\n",
        "\n",
        "print(df['High_Low_Adoption'].value_counts())\n"
      ],
      "metadata": {
        "colab": {
          "base_uri": "https://localhost:8080/"
        },
        "id": "sNjO82iDbAE0",
        "outputId": "4f9861a0-5715-4c5b-c741-89ea0b6976a9"
      },
      "execution_count": 35,
      "outputs": [
        {
          "output_type": "stream",
          "name": "stdout",
          "text": [
            "High_Low_Adoption\n",
            "1    170776\n",
            "0      5050\n",
            "Name: count, dtype: int64\n"
          ]
        }
      ]
    },
    {
      "cell_type": "code",
      "source": [
        "# Cross-Validation\n",
        "\n",
        "from sklearn.model_selection import cross_val_score\n",
        "\n",
        "scores = cross_val_score(model, X, y, cv=5)\n",
        "print(f\"Cross-validated scores: {scores}\")\n"
      ],
      "metadata": {
        "colab": {
          "base_uri": "https://localhost:8080/"
        },
        "id": "m76_OEzXbDQl",
        "outputId": "11b431bb-4e07-4cba-a12f-4dc43ff83612"
      },
      "execution_count": 36,
      "outputs": [
        {
          "output_type": "stream",
          "name": "stdout",
          "text": [
            "Cross-validated scores: [0.99997156 0.99994313 1.         1.         1.        ]\n"
          ]
        }
      ]
    },
    {
      "cell_type": "code",
      "source": [
        "# Use Feature Importance\n",
        "\n",
        "feature_importances = model.feature_importances_\n",
        "for name, importance in zip(features, feature_importances):\n",
        "    print(f\"{name}: {importance}\")\n"
      ],
      "metadata": {
        "colab": {
          "base_uri": "https://localhost:8080/"
        },
        "id": "7Xoqqf8ubPLf",
        "outputId": "809043a7-7bf9-463e-9aab-2e7592cd2f01"
      },
      "execution_count": 37,
      "outputs": [
        {
          "output_type": "stream",
          "name": "stdout",
          "text": [
            "Make_Proportion: 0.6231803037276529\n",
            "Urban: 0.042488559279962\n",
            "CAFV Eligibility: 0.24441347434953237\n",
            "Dominant_Manufacturer_Proportion: 0.08991766264285275\n"
          ]
        }
      ]
    },
    {
      "cell_type": "markdown",
      "source": [
        "# Interpretation:\n",
        "\n",
        "**Make_Proportion (62.32%):**\n",
        "\n",
        "Significance: This is the most influential feature in the model, with a contribution of 62.32%. It suggests that the proportion of vehicles from a particular manufacturer within a region plays a crucial role in determining whether the region has high or low EV adoption.\n",
        "\n",
        "Implication: This could imply that regions dominated by certain manufacturers are more likely to have higher EV adoption rates, possibly due to better brand recognition, marketing, or manufacturer-specific incentives.\n",
        "\n",
        "\n",
        "**CAFV Eligibility (24.44%):**\n",
        "\n",
        "Significance: The second most important feature, with a 24.44% contribution. This shows that whether a vehicle is eligible for Clean Alternative Fuel Vehicle (CAFV) incentives significantly influences EV adoption.\n",
        "\n",
        "Implication: Incentives play a crucial role in driving EV adoption, particularly in regions where these incentives are available and utilized.\n",
        "\n",
        "\n",
        "**Dominant_Manufacturer_Proportion (8.99%):**\n",
        "\n",
        "Significance: This feature contributes 8.99% to the model, indicating that the proportion of the dominant manufacturer in a region is somewhat important but not as critical as the other factors.\n",
        "\n",
        "Implication: While the dominance of a particular manufacturer matters, it’s less significant compared to the overall make proportion and incentive eligibility.\n",
        "\n",
        "\n",
        "**Urban (4.25%):**\n",
        "\n",
        "Significance: The least influential feature in the model, contributing 4.25%. This suggests that whether a region is urban or not has the least impact on EV adoption, according to the model.\n",
        "\n",
        "Implication: Urbanization plays a role but is relatively less important compared to manufacturer influence and CAFV eligibility. However, it might still be an important factor in combination with others."
      ],
      "metadata": {
        "id": "IyxYviJ9b-Om"
      }
    },
    {
      "cell_type": "markdown",
      "source": [
        "# Actionable Recommendations\n",
        "\n",
        "**Focus on Key Manufacturers:**\n",
        "\n",
        "Action: Partner with manufacturers who already have a strong presence in regions with high EV adoption. Work together on marketing campaigns and incentives to boost their vehicle sales.\n",
        "Why: The make of a vehicle is the biggest factor driving EV adoption. Strengthening relationships with these manufacturers will help increase EV sales.\n",
        "\n",
        "Expand CAFV Incentives:\n",
        "\n",
        "Action: Increase the availability of Clean Alternative Fuel Vehicle (CAFV) incentives in areas with low EV adoption. Make sure people know about these incentives.\n",
        "Why: CAFV eligibility significantly influences EV adoption. More incentives and better awareness can lead to higher adoption rates.\n",
        "\n",
        "Promote Dominant Brands:\n",
        "\n",
        "Action: In regions where certain manufacturers are already popular, focus on promoting their EV models. Offer special deals and financing options through these manufacturers.\n",
        "Why: People tend to buy from brands they trust. Highlighting EVs from dominant brands can encourage more people to switch.\n",
        "\n",
        "Improve Urban EV Infrastructure:\n",
        "\n",
        "Action: Continue to develop charging infrastructure in urban areas, especially where adoption is growing. Ensure public transportation policies support EVs.\n",
        "Why: While less impactful than other factors, urban infrastructure still plays a role in EV adoption. Better infrastructure will support continued growth.\n",
        "\n",
        "Tailor Strategies by Region:\n",
        "\n",
        "Action: Use these insights to create specific strategies for different regions. For example, in areas where incentives are underutilized, focus on awareness campaigns.\n",
        "Why: Different regions have different needs. Tailoring your approach will make your efforts more effective."
      ],
      "metadata": {
        "id": "SE-LO3mMlJBq"
      }
    },
    {
      "cell_type": "markdown",
      "source": [
        "**Objective 2: Market Penetration and Growth Trends**"
      ],
      "metadata": {
        "id": "lY3q4ysBmB-h"
      }
    },
    {
      "cell_type": "markdown",
      "source": [
        "Goal: Understand the growth trend of EV adoption and project future adoption rates to help stakeholders plan accordingly.\n",
        "\n",
        "Modeling: Time Series Forecasting\n",
        "\n",
        "Objective:\n",
        "\n",
        "Predict future EV adoption rates based on historical data to assist in strategic planning for infrastructure, marketing, and policy development.\n",
        "Technique:\n",
        "\n",
        "Prophet (by Facebook): A robust time series forecasting model that handles trends, seasonality, and holiday effects, making it suitable for projecting future EV adoption.\n",
        "\n",
        "ARIMA (AutoRegressive Integrated Moving Average): A statistical method that models the time series data to predict future points based on past values."
      ],
      "metadata": {
        "id": "Nr5VQ51MmJbQ"
      }
    },
    {
      "cell_type": "code",
      "source": [
        "print(df.columns)"
      ],
      "metadata": {
        "colab": {
          "base_uri": "https://localhost:8080/"
        },
        "id": "k9WwNqWomYR3",
        "outputId": "14f51b02-ba7d-420e-e5cc-6ac095031e1e"
      },
      "execution_count": 39,
      "outputs": [
        {
          "output_type": "stream",
          "name": "stdout",
          "text": [
            "Index(['VIN (1-10)', 'County', 'City', 'State', 'Postal Code', 'Model Year',\n",
            "       'Make', 'Model', 'Electric Vehicle Type',\n",
            "       'Clean Alternative Fuel Vehicle (CAFV) Eligibility', 'Electric Range',\n",
            "       'Base MSRP', 'DOL Vehicle ID', 'Vehicle Location', 'Electric Utility',\n",
            "       '2020 Census Tract', 'Make_Proportion', 'Urban', 'CAFV Eligibility',\n",
            "       'Urban_CAFV_Interaction_Urban_Not Eligible', 'Vehicle Age',\n",
            "       'Yearly_Growth_Rate', 'Quarter', 'Month', 'BEV_Proportion',\n",
            "       'PHEV_Proportion', 'Dominant_Manufacturer',\n",
            "       'Dominant_Manufacturer_Proportion', 'High_Low_Adoption'],\n",
            "      dtype='object')\n"
          ]
        }
      ]
    },
    {
      "cell_type": "markdown",
      "source": [
        "**Preparing the Data**"
      ],
      "metadata": {
        "id": "4VJYQK4anDs3"
      }
    },
    {
      "cell_type": "code",
      "source": [
        "time_series_data = df.groupby(['Model Year', 'County'])['VIN (1-10)'].count().reset_index()\n",
        "time_series_data.rename(columns={'VIN (1-10)': 'EV_Count'}, inplace=True)\n"
      ],
      "metadata": {
        "id": "yEbzQCVYmaSO"
      },
      "execution_count": 40,
      "outputs": []
    },
    {
      "cell_type": "markdown",
      "source": [
        "**Install the Prophet Package**"
      ],
      "metadata": {
        "id": "V6Z_uwkunZn9"
      }
    },
    {
      "cell_type": "code",
      "source": [
        "!pip install prophet\n"
      ],
      "metadata": {
        "colab": {
          "base_uri": "https://localhost:8080/"
        },
        "id": "4VVioMtpnbbP",
        "outputId": "091d7d68-5f7e-418d-d994-c99978015f32"
      },
      "execution_count": 42,
      "outputs": [
        {
          "output_type": "stream",
          "name": "stdout",
          "text": [
            "Requirement already satisfied: prophet in /usr/local/lib/python3.10/dist-packages (1.1.5)\n",
            "Requirement already satisfied: cmdstanpy>=1.0.4 in /usr/local/lib/python3.10/dist-packages (from prophet) (1.2.4)\n",
            "Requirement already satisfied: numpy>=1.15.4 in /usr/local/lib/python3.10/dist-packages (from prophet) (1.26.4)\n",
            "Requirement already satisfied: matplotlib>=2.0.0 in /usr/local/lib/python3.10/dist-packages (from prophet) (3.7.1)\n",
            "Requirement already satisfied: pandas>=1.0.4 in /usr/local/lib/python3.10/dist-packages (from prophet) (2.1.4)\n",
            "Requirement already satisfied: holidays>=0.25 in /usr/local/lib/python3.10/dist-packages (from prophet) (0.55)\n",
            "Requirement already satisfied: tqdm>=4.36.1 in /usr/local/lib/python3.10/dist-packages (from prophet) (4.66.5)\n",
            "Requirement already satisfied: importlib-resources in /usr/local/lib/python3.10/dist-packages (from prophet) (6.4.3)\n",
            "Requirement already satisfied: stanio<2.0.0,>=0.4.0 in /usr/local/lib/python3.10/dist-packages (from cmdstanpy>=1.0.4->prophet) (0.5.1)\n",
            "Requirement already satisfied: python-dateutil in /usr/local/lib/python3.10/dist-packages (from holidays>=0.25->prophet) (2.8.2)\n",
            "Requirement already satisfied: contourpy>=1.0.1 in /usr/local/lib/python3.10/dist-packages (from matplotlib>=2.0.0->prophet) (1.2.1)\n",
            "Requirement already satisfied: cycler>=0.10 in /usr/local/lib/python3.10/dist-packages (from matplotlib>=2.0.0->prophet) (0.12.1)\n",
            "Requirement already satisfied: fonttools>=4.22.0 in /usr/local/lib/python3.10/dist-packages (from matplotlib>=2.0.0->prophet) (4.53.1)\n",
            "Requirement already satisfied: kiwisolver>=1.0.1 in /usr/local/lib/python3.10/dist-packages (from matplotlib>=2.0.0->prophet) (1.4.5)\n",
            "Requirement already satisfied: packaging>=20.0 in /usr/local/lib/python3.10/dist-packages (from matplotlib>=2.0.0->prophet) (24.1)\n",
            "Requirement already satisfied: pillow>=6.2.0 in /usr/local/lib/python3.10/dist-packages (from matplotlib>=2.0.0->prophet) (9.4.0)\n",
            "Requirement already satisfied: pyparsing>=2.3.1 in /usr/local/lib/python3.10/dist-packages (from matplotlib>=2.0.0->prophet) (3.1.2)\n",
            "Requirement already satisfied: pytz>=2020.1 in /usr/local/lib/python3.10/dist-packages (from pandas>=1.0.4->prophet) (2024.1)\n",
            "Requirement already satisfied: tzdata>=2022.1 in /usr/local/lib/python3.10/dist-packages (from pandas>=1.0.4->prophet) (2024.1)\n",
            "Requirement already satisfied: six>=1.5 in /usr/local/lib/python3.10/dist-packages (from python-dateutil->holidays>=0.25->prophet) (1.16.0)\n"
          ]
        }
      ]
    },
    {
      "cell_type": "markdown",
      "source": [
        "**Import and Use the Prophet Model**"
      ],
      "metadata": {
        "id": "Fa9BETihnJ-_"
      }
    },
    {
      "cell_type": "code",
      "source": [
        "import matplotlib.pyplot as plt\n",
        "from prophet import Prophet\n",
        "\n",
        "# Prepare the data for Prophet\n",
        "df_prophet = time_series_data.groupby('Model Year')['EV_Count'].sum().reset_index()\n",
        "df_prophet.columns = ['ds', 'y']  # Prophet requires columns 'ds' (date) and 'y' (value)\n",
        "\n",
        "# Initialize and train the Prophet model\n",
        "model = Prophet()\n",
        "model.fit(df_prophet)\n",
        "\n",
        "# Make future predictions\n",
        "future = model.make_future_dataframe(periods=5, freq='Y')\n",
        "forecast = model.predict(future)\n",
        "\n",
        "# Plot the forecast\n",
        "fig = model.plot(forecast)\n",
        "\n",
        "# Add title to the plot\n",
        "plt.title('Forecast of EV Adoption Growth in Washington State')\n",
        "plt.xlabel('Year')\n",
        "plt.ylabel('Number of Electric Vehicles')\n",
        "plt.show()\n",
        "\n"
      ],
      "metadata": {
        "colab": {
          "base_uri": "https://localhost:8080/",
          "height": 857
        },
        "id": "nuFpzW8iniGV",
        "outputId": "5500abac-d7c3-40fd-ec9b-096709ecf9af"
      },
      "execution_count": 45,
      "outputs": [
        {
          "output_type": "stream",
          "name": "stderr",
          "text": [
            "INFO:prophet:Disabling weekly seasonality. Run prophet with weekly_seasonality=True to override this.\n",
            "INFO:prophet:Disabling daily seasonality. Run prophet with daily_seasonality=True to override this.\n",
            "INFO:prophet:n_changepoints greater than number of observations. Using 9.\n",
            "DEBUG:cmdstanpy:input tempfile: /tmp/tmp_w4gqdod/9gpluvrt.json\n",
            "DEBUG:cmdstanpy:input tempfile: /tmp/tmp_w4gqdod/nq3k1jx6.json\n",
            "DEBUG:cmdstanpy:idx 0\n",
            "DEBUG:cmdstanpy:running CmdStan, num_threads: None\n",
            "DEBUG:cmdstanpy:CmdStan args: ['/usr/local/lib/python3.10/dist-packages/prophet/stan_model/prophet_model.bin', 'random', 'seed=93943', 'data', 'file=/tmp/tmp_w4gqdod/9gpluvrt.json', 'init=/tmp/tmp_w4gqdod/nq3k1jx6.json', 'output', 'file=/tmp/tmp_w4gqdod/prophet_model8ivwt2_x/prophet_model-20240824182152.csv', 'method=optimize', 'algorithm=newton', 'iter=10000']\n",
            "18:21:52 - cmdstanpy - INFO - Chain [1] start processing\n",
            "INFO:cmdstanpy:Chain [1] start processing\n",
            "18:21:52 - cmdstanpy - INFO - Chain [1] done processing\n",
            "INFO:cmdstanpy:Chain [1] done processing\n"
          ]
        },
        {
          "output_type": "display_data",
          "data": {
            "text/plain": [
              "<Figure size 1000x600 with 1 Axes>"
            ],
            "image/png": "[encoded data removed]"
          },
          "metadata": {}
        }
      ]
    },
    {
      "cell_type": "markdown",
      "source": [
        "**Key Observations:**\n",
        "\n",
        "- The model shows a steady upward trend in the historical data until around 2025, indicating growing adoption of EVs in Washington State.\n",
        "\n",
        "- However, the forecasted values seem unrealistic, with negative numbers of EVs, likely due to the historical data’s limitations or the model not capturing seasonal or cyclical patterns correctly.\n",
        "\n",
        "- The uncertainty interval (shaded area) is wide, indicating a high level of uncertainty in the prediction. This suggests that the model might not be very reliable for predicting EV adoption trends in this scenario."
      ],
      "metadata": {
        "id": "H_J0zcJ_qOWc"
      }
    },
    {
      "cell_type": "markdown",
      "source": [
        "# ARIMA (AutoRegressive Integrated Moving Average) Model"
      ],
      "metadata": {
        "id": "S2n-VYLfoViu"
      }
    },
    {
      "cell_type": "markdown",
      "source": [
        "**Install Necessary Packages**"
      ],
      "metadata": {
        "id": "Y4vKe7EOoaFk"
      }
    },
    {
      "cell_type": "code",
      "source": [
        "!pip install statsmodels\n"
      ],
      "metadata": {
        "colab": {
          "base_uri": "https://localhost:8080/"
        },
        "id": "ci18vye7oXHe",
        "outputId": "73986f20-3ebd-4a99-ccde-8c8511784fcc"
      },
      "execution_count": 46,
      "outputs": [
        {
          "output_type": "stream",
          "name": "stdout",
          "text": [
            "Requirement already satisfied: statsmodels in /usr/local/lib/python3.10/dist-packages (0.14.2)\n",
            "Requirement already satisfied: numpy>=1.22.3 in /usr/local/lib/python3.10/dist-packages (from statsmodels) (1.26.4)\n",
            "Requirement already satisfied: scipy!=1.9.2,>=1.8 in /usr/local/lib/python3.10/dist-packages (from statsmodels) (1.13.1)\n",
            "Requirement already satisfied: pandas!=2.1.0,>=1.4 in /usr/local/lib/python3.10/dist-packages (from statsmodels) (2.1.4)\n",
            "Requirement already satisfied: patsy>=0.5.6 in /usr/local/lib/python3.10/dist-packages (from statsmodels) (0.5.6)\n",
            "Requirement already satisfied: packaging>=21.3 in /usr/local/lib/python3.10/dist-packages (from statsmodels) (24.1)\n",
            "Requirement already satisfied: python-dateutil>=2.8.2 in /usr/local/lib/python3.10/dist-packages (from pandas!=2.1.0,>=1.4->statsmodels) (2.8.2)\n",
            "Requirement already satisfied: pytz>=2020.1 in /usr/local/lib/python3.10/dist-packages (from pandas!=2.1.0,>=1.4->statsmodels) (2024.1)\n",
            "Requirement already satisfied: tzdata>=2022.1 in /usr/local/lib/python3.10/dist-packages (from pandas!=2.1.0,>=1.4->statsmodels) (2024.1)\n",
            "Requirement already satisfied: six in /usr/local/lib/python3.10/dist-packages (from patsy>=0.5.6->statsmodels) (1.16.0)\n"
          ]
        }
      ]
    },
    {
      "cell_type": "markdown",
      "source": [
        "**Import Required Libraries**"
      ],
      "metadata": {
        "id": "Takn4Vo4of1E"
      }
    },
    {
      "cell_type": "code",
      "source": [
        "import pandas as pd\n",
        "import numpy as np\n",
        "import matplotlib.pyplot as plt\n",
        "from statsmodels.tsa.arima.model import ARIMA\n",
        "from statsmodels.tsa.stattools import adfuller\n",
        "from pandas.plotting import autocorrelation_plot\n"
      ],
      "metadata": {
        "id": "aWNF8KJ6ogbH"
      },
      "execution_count": 47,
      "outputs": []
    },
    {
      "cell_type": "markdown",
      "source": [
        "**Prepare the Data**"
      ],
      "metadata": {
        "id": "OfWbVUqNojLR"
      }
    },
    {
      "cell_type": "code",
      "source": [
        "# Aggregate the data by Model Year\n",
        "time_series_data = df.groupby('Model Year')['VIN (1-10)'].count().reset_index()\n",
        "time_series_data.rename(columns={'VIN (1-10)': 'EV_Count'}, inplace=True)\n",
        "\n",
        "# Set the Model Year as the index\n",
        "time_series_data.set_index('Model Year', inplace=True)\n"
      ],
      "metadata": {
        "id": "cyBACgezojxG"
      },
      "execution_count": 48,
      "outputs": []
    },
    {
      "cell_type": "markdown",
      "source": [
        "**Check Stationarity**"
      ],
      "metadata": {
        "id": "tWrFqD56om_G"
      }
    },
    {
      "cell_type": "code",
      "source": [
        "result = adfuller(time_series_data['EV_Count'])\n",
        "print(f'ADF Statistic: {result[0]}')\n",
        "print(f'p-value: {result[1]}')\n",
        "\n",
        "# If p-value > 0.05, the data is non-stationary, and differencing might be needed.\n"
      ],
      "metadata": {
        "colab": {
          "base_uri": "https://localhost:8080/"
        },
        "id": "9C7A4JeJonnC",
        "outputId": "57183803-4d1b-4590-8afd-c7dfd7ccbb08"
      },
      "execution_count": 49,
      "outputs": [
        {
          "output_type": "stream",
          "name": "stdout",
          "text": [
            "ADF Statistic: 1.5261412518254116\n",
            "p-value: 0.9976181715851477\n"
          ]
        }
      ]
    },
    {
      "cell_type": "markdown",
      "source": [
        "**Differencing**\n",
        "\n",
        "If our data is non-stationary (p-value > 0.05), we might need to difference it:"
      ],
      "metadata": {
        "id": "n3Ru4hnKovFN"
      }
    },
    {
      "cell_type": "code",
      "source": [
        "time_series_data['EV_Count_diff'] = time_series_data['EV_Count'].diff().dropna()\n"
      ],
      "metadata": {
        "id": "Q_m3Srpso1av"
      },
      "execution_count": 50,
      "outputs": []
    },
    {
      "cell_type": "markdown",
      "source": [
        "**Fit the ARIMA Model**"
      ],
      "metadata": {
        "id": "XY9EyNTwo5a9"
      }
    },
    {
      "cell_type": "code",
      "source": [
        "# Define the ARIMA model (order=(p, d, q))\n",
        "model = ARIMA(time_series_data['EV_Count'], order=(1, 1, 1))  # Adjust the (p, d, q) order as needed\n",
        "model_fit = model.fit()\n",
        "\n",
        "# Summary of the model\n",
        "print(model_fit.summary())\n"
      ],
      "metadata": {
        "colab": {
          "base_uri": "https://localhost:8080/"
        },
        "id": "ysNcnVhEo6Me",
        "outputId": "d508603b-476b-4fef-c522-6a760c8ab624"
      },
      "execution_count": 51,
      "outputs": [
        {
          "output_type": "stream",
          "name": "stderr",
          "text": [
            "/usr/local/lib/python3.10/dist-packages/statsmodels/tsa/base/tsa_model.py:473: ValueWarning: An unsupported index was provided and will be ignored when e.g. forecasting.\n",
            "  self._init_dates(dates, freq)\n",
            "/usr/local/lib/python3.10/dist-packages/statsmodels/tsa/base/tsa_model.py:473: ValueWarning: An unsupported index was provided and will be ignored when e.g. forecasting.\n",
            "  self._init_dates(dates, freq)\n",
            "/usr/local/lib/python3.10/dist-packages/statsmodels/tsa/base/tsa_model.py:473: ValueWarning: An unsupported index was provided and will be ignored when e.g. forecasting.\n",
            "  self._init_dates(dates, freq)\n"
          ]
        },
        {
          "output_type": "stream",
          "name": "stdout",
          "text": [
            "                               SARIMAX Results                                \n",
            "==============================================================================\n",
            "Dep. Variable:               EV_Count   No. Observations:                   13\n",
            "Model:                 ARIMA(1, 1, 1)   Log Likelihood                -133.467\n",
            "Date:                Sat, 24 Aug 2024   AIC                            272.934\n",
            "Time:                        18:26:31   BIC                            274.389\n",
            "Sample:                             0   HQIC                           272.396\n",
            "                                 - 13                                         \n",
            "Covariance Type:                  opg                                         \n",
            "==============================================================================\n",
            "                 coef    std err          z      P>|z|      [0.025      0.975]\n",
            "------------------------------------------------------------------------------\n",
            "ar.L1         -0.9980     54.767     -0.018      0.985    -108.338     106.343\n",
            "ma.L1          0.9977     55.213      0.018      0.986    -107.217     109.212\n",
            "sigma2      2.725e+08   5.44e-05   5.01e+12      0.000    2.72e+08    2.72e+08\n",
            "===================================================================================\n",
            "Ljung-Box (L1) (Q):                   0.03   Jarque-Bera (JB):                 0.29\n",
            "Prob(Q):                              0.85   Prob(JB):                         0.86\n",
            "Heteroskedasticity (H):             197.03   Skew:                            -0.34\n",
            "Prob(H) (two-sided):                  0.00   Kurtosis:                         3.33\n",
            "===================================================================================\n",
            "\n",
            "Warnings:\n",
            "[1] Covariance matrix calculated using the outer product of gradients (complex-step).\n",
            "[2] Covariance matrix is singular or near-singular, with condition number 2.97e+28. Standard errors may be unstable.\n"
          ]
        }
      ]
    },
    {
      "cell_type": "markdown",
      "source": [
        "**Make Forecasts**"
      ],
      "metadata": {
        "id": "E9FfUA3ro_fF"
      }
    },
    {
      "cell_type": "code",
      "source": [
        "# Forecasting the next 5 periods (years in this case)\n",
        "forecast = model_fit.forecast(steps=5)\n",
        "print(forecast)\n",
        "\n",
        "# Plot the forecast\n",
        "plt.figure(figsize=(10, 6))\n",
        "plt.plot(time_series_data.index, time_series_data['EV_Count'], label='Historical')\n",
        "plt.plot(pd.RangeIndex(time_series_data.index[-1] + 1, time_series_data.index[-1] + 6), forecast, label='Forecast')\n",
        "plt.title('ARIMA Forecast of EV Adoption Growth')\n",
        "plt.xlabel('Year')\n",
        "plt.ylabel('Number of Electric Vehicles')\n",
        "plt.legend()\n",
        "plt.show()\n"
      ],
      "metadata": {
        "colab": {
          "base_uri": "https://localhost:8080/",
          "height": 723
        },
        "id": "OiPAInDTpAIt",
        "outputId": "34cae6b1-6bcd-42c1-e832-619dc75c8f36"
      },
      "execution_count": 52,
      "outputs": [
        {
          "output_type": "stream",
          "name": "stderr",
          "text": [
            "/usr/local/lib/python3.10/dist-packages/statsmodels/tsa/base/tsa_model.py:836: ValueWarning: No supported index is available. Prediction results will be given with an integer index beginning at `start`.\n",
            "  return get_prediction_index(\n"
          ]
        },
        {
          "output_type": "stream",
          "name": "stdout",
          "text": [
            "13    157.465476\n",
            "14    172.968339\n",
            "15    157.497072\n",
            "16    172.936808\n",
            "17    157.528539\n",
            "Name: predicted_mean, dtype: float64\n"
          ]
        },
        {
          "output_type": "display_data",
          "data": {
            "text/plain": [
              "<Figure size 1000x600 with 1 Axes>"
            ],
            "image/png": "[encoded data removed]"
          },
          "metadata": {}
        }
      ]
    },
    {
      "cell_type": "markdown",
      "source": [
        "**Key Observations:**\n",
        "\n",
        "- The ARIMA model captures the historical trend well but fails to provide a meaningful forecast for the future, as indicated by the flat line after 2025.\n",
        "\n",
        "- The significant spike and subsequent drop in the historical data before 2025 suggest volatility or irregular adoption patterns, which the ARIMA model struggles to forecast accurately.\n",
        "\n",
        "- This flat forecast suggests that ARIMA might not be the best model for capturing the future trend in EV adoption, possibly due to the complex and non-linear nature of the data."
      ],
      "metadata": {
        "id": "WXh8WgnzqhpS"
      }
    },
    {
      "cell_type": "markdown",
      "source": [
        "# Final Recommendations:"
      ],
      "metadata": {
        "id": "iEJDha0KrUsK"
      }
    },
    {
      "cell_type": "markdown",
      "source": [
        "- Both models show limitations in accurately predicting the future trend of EV adoption in Washington State.\n",
        "\n",
        "- Both models indicate that predicting future EV adoption is challenging with the current data, and additional refinement and possibly more sophisticated modeling approaches are required to produce reliable forecasts."
      ],
      "metadata": {
        "id": "1ktxQa9drYD7"
      }
    }
  ]
}